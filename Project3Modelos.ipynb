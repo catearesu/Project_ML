{
 "cells": [
  {
   "cell_type": "code",
   "execution_count": 47,
   "metadata": {},
   "outputs": [],
   "source": [
    "#manejo bbdd\n",
    "import pandas as pd\n",
    "import numpy as np\n",
    "\n",
    "#gráficas\n",
    "import seaborn as sns\n",
    "import matplotlib.pyplot as plt\n",
    "\n",
    "#estadística\n",
    "import math\n",
    "from scipy.stats import norm\n",
    "from scipy import stats #para box-cox entre otros\n",
    "from scipy.stats import skew\n",
    "\n",
    "\n",
    "#preprocesamiento\n",
    "from sklearn.preprocessing import MinMaxScaler\n",
    "from sklearn.preprocessing import StandardScaler\n",
    "from sklearn.preprocessing import LabelEncoder\n",
    "\n",
    "\n",
    "#modelos y evaluación\n",
    "from statsmodels.stats.outliers_influence import variance_inflation_factor\n",
    "import statsmodels.api as sm\n",
    "from statsmodels.formula.api import ols\n",
    "from sklearn.model_selection import train_test_split\n",
    "from sklearn import linear_model\n",
    "from sklearn.linear_model import LinearRegression, Ridge, Lasso\n",
    "from sklearn.neighbors import KNeighborsRegressor\n",
    "from sklearn.svm import SVR\n",
    "from sklearn.metrics import mean_squared_error,r2_score"
   ]
  },
  {
   "cell_type": "markdown",
   "metadata": {},
   "source": [
    "# OPCIÓN 1: ELIMINANDO LA MULTICOLINEALIDAD"
   ]
  },
  {
   "cell_type": "code",
   "execution_count": 48,
   "metadata": {},
   "outputs": [],
   "source": [
    "df = pd.read_csv(\"Data/StudentsMathScoresAnalisis.csv\")\n",
    "# uso el df con solo el MATH SCORE"
   ]
  },
  {
   "cell_type": "code",
   "execution_count": 49,
   "metadata": {},
   "outputs": [
    {
     "data": {
      "text/html": [
       "<div>\n",
       "<style scoped>\n",
       "    .dataframe tbody tr th:only-of-type {\n",
       "        vertical-align: middle;\n",
       "    }\n",
       "\n",
       "    .dataframe tbody tr th {\n",
       "        vertical-align: top;\n",
       "    }\n",
       "\n",
       "    .dataframe thead th {\n",
       "        text-align: right;\n",
       "    }\n",
       "</style>\n",
       "<table border=\"1\" class=\"dataframe\">\n",
       "  <thead>\n",
       "    <tr style=\"text-align: right;\">\n",
       "      <th></th>\n",
       "      <th>NrSiblings</th>\n",
       "      <th>MathScore</th>\n",
       "      <th>ParentEduc</th>\n",
       "      <th>PracticeSport</th>\n",
       "      <th>WklyStudyHours</th>\n",
       "      <th>Gender_male</th>\n",
       "      <th>EthnicGroup_group B</th>\n",
       "      <th>EthnicGroup_group C</th>\n",
       "      <th>EthnicGroup_group D</th>\n",
       "      <th>EthnicGroup_group E</th>\n",
       "      <th>LunchType_standard</th>\n",
       "      <th>TestPrep_none</th>\n",
       "      <th>IsFirstChild_yes</th>\n",
       "    </tr>\n",
       "  </thead>\n",
       "  <tbody>\n",
       "    <tr>\n",
       "      <th>0</th>\n",
       "      <td>3</td>\n",
       "      <td>71</td>\n",
       "      <td>3</td>\n",
       "      <td>2</td>\n",
       "      <td>0</td>\n",
       "      <td>False</td>\n",
       "      <td>False</td>\n",
       "      <td>True</td>\n",
       "      <td>False</td>\n",
       "      <td>False</td>\n",
       "      <td>True</td>\n",
       "      <td>True</td>\n",
       "      <td>True</td>\n",
       "    </tr>\n",
       "    <tr>\n",
       "      <th>1</th>\n",
       "      <td>0</td>\n",
       "      <td>69</td>\n",
       "      <td>1</td>\n",
       "      <td>1</td>\n",
       "      <td>1</td>\n",
       "      <td>False</td>\n",
       "      <td>False</td>\n",
       "      <td>True</td>\n",
       "      <td>False</td>\n",
       "      <td>False</td>\n",
       "      <td>True</td>\n",
       "      <td>True</td>\n",
       "      <td>True</td>\n",
       "    </tr>\n",
       "    <tr>\n",
       "      <th>2</th>\n",
       "      <td>4</td>\n",
       "      <td>87</td>\n",
       "      <td>4</td>\n",
       "      <td>1</td>\n",
       "      <td>0</td>\n",
       "      <td>False</td>\n",
       "      <td>True</td>\n",
       "      <td>False</td>\n",
       "      <td>False</td>\n",
       "      <td>False</td>\n",
       "      <td>True</td>\n",
       "      <td>True</td>\n",
       "      <td>True</td>\n",
       "    </tr>\n",
       "    <tr>\n",
       "      <th>3</th>\n",
       "      <td>1</td>\n",
       "      <td>45</td>\n",
       "      <td>2</td>\n",
       "      <td>0</td>\n",
       "      <td>1</td>\n",
       "      <td>True</td>\n",
       "      <td>False</td>\n",
       "      <td>False</td>\n",
       "      <td>False</td>\n",
       "      <td>False</td>\n",
       "      <td>False</td>\n",
       "      <td>True</td>\n",
       "      <td>False</td>\n",
       "    </tr>\n",
       "    <tr>\n",
       "      <th>4</th>\n",
       "      <td>0</td>\n",
       "      <td>76</td>\n",
       "      <td>1</td>\n",
       "      <td>1</td>\n",
       "      <td>1</td>\n",
       "      <td>True</td>\n",
       "      <td>False</td>\n",
       "      <td>True</td>\n",
       "      <td>False</td>\n",
       "      <td>False</td>\n",
       "      <td>True</td>\n",
       "      <td>True</td>\n",
       "      <td>True</td>\n",
       "    </tr>\n",
       "    <tr>\n",
       "      <th>...</th>\n",
       "      <td>...</td>\n",
       "      <td>...</td>\n",
       "      <td>...</td>\n",
       "      <td>...</td>\n",
       "      <td>...</td>\n",
       "      <td>...</td>\n",
       "      <td>...</td>\n",
       "      <td>...</td>\n",
       "      <td>...</td>\n",
       "      <td>...</td>\n",
       "      <td>...</td>\n",
       "      <td>...</td>\n",
       "      <td>...</td>\n",
       "    </tr>\n",
       "    <tr>\n",
       "      <th>28556</th>\n",
       "      <td>2</td>\n",
       "      <td>59</td>\n",
       "      <td>0</td>\n",
       "      <td>1</td>\n",
       "      <td>1</td>\n",
       "      <td>False</td>\n",
       "      <td>False</td>\n",
       "      <td>False</td>\n",
       "      <td>True</td>\n",
       "      <td>False</td>\n",
       "      <td>True</td>\n",
       "      <td>True</td>\n",
       "      <td>False</td>\n",
       "    </tr>\n",
       "    <tr>\n",
       "      <th>28557</th>\n",
       "      <td>1</td>\n",
       "      <td>58</td>\n",
       "      <td>0</td>\n",
       "      <td>2</td>\n",
       "      <td>1</td>\n",
       "      <td>True</td>\n",
       "      <td>False</td>\n",
       "      <td>False</td>\n",
       "      <td>False</td>\n",
       "      <td>True</td>\n",
       "      <td>True</td>\n",
       "      <td>True</td>\n",
       "      <td>False</td>\n",
       "    </tr>\n",
       "    <tr>\n",
       "      <th>28558</th>\n",
       "      <td>1</td>\n",
       "      <td>61</td>\n",
       "      <td>0</td>\n",
       "      <td>1</td>\n",
       "      <td>1</td>\n",
       "      <td>False</td>\n",
       "      <td>False</td>\n",
       "      <td>True</td>\n",
       "      <td>False</td>\n",
       "      <td>False</td>\n",
       "      <td>False</td>\n",
       "      <td>False</td>\n",
       "      <td>False</td>\n",
       "    </tr>\n",
       "    <tr>\n",
       "      <th>28559</th>\n",
       "      <td>3</td>\n",
       "      <td>82</td>\n",
       "      <td>2</td>\n",
       "      <td>2</td>\n",
       "      <td>1</td>\n",
       "      <td>False</td>\n",
       "      <td>False</td>\n",
       "      <td>False</td>\n",
       "      <td>True</td>\n",
       "      <td>False</td>\n",
       "      <td>True</td>\n",
       "      <td>False</td>\n",
       "      <td>False</td>\n",
       "    </tr>\n",
       "    <tr>\n",
       "      <th>28560</th>\n",
       "      <td>1</td>\n",
       "      <td>64</td>\n",
       "      <td>1</td>\n",
       "      <td>0</td>\n",
       "      <td>1</td>\n",
       "      <td>True</td>\n",
       "      <td>True</td>\n",
       "      <td>False</td>\n",
       "      <td>False</td>\n",
       "      <td>False</td>\n",
       "      <td>True</td>\n",
       "      <td>True</td>\n",
       "      <td>False</td>\n",
       "    </tr>\n",
       "  </tbody>\n",
       "</table>\n",
       "<p>28561 rows × 13 columns</p>\n",
       "</div>"
      ],
      "text/plain": [
       "       NrSiblings  MathScore  ParentEduc  PracticeSport  WklyStudyHours  \\\n",
       "0               3         71           3              2               0   \n",
       "1               0         69           1              1               1   \n",
       "2               4         87           4              1               0   \n",
       "3               1         45           2              0               1   \n",
       "4               0         76           1              1               1   \n",
       "...           ...        ...         ...            ...             ...   \n",
       "28556           2         59           0              1               1   \n",
       "28557           1         58           0              2               1   \n",
       "28558           1         61           0              1               1   \n",
       "28559           3         82           2              2               1   \n",
       "28560           1         64           1              0               1   \n",
       "\n",
       "       Gender_male  EthnicGroup_group B  EthnicGroup_group C  \\\n",
       "0            False                False                 True   \n",
       "1            False                False                 True   \n",
       "2            False                 True                False   \n",
       "3             True                False                False   \n",
       "4             True                False                 True   \n",
       "...            ...                  ...                  ...   \n",
       "28556        False                False                False   \n",
       "28557         True                False                False   \n",
       "28558        False                False                 True   \n",
       "28559        False                False                False   \n",
       "28560         True                 True                False   \n",
       "\n",
       "       EthnicGroup_group D  EthnicGroup_group E  LunchType_standard  \\\n",
       "0                    False                False                True   \n",
       "1                    False                False                True   \n",
       "2                    False                False                True   \n",
       "3                    False                False               False   \n",
       "4                    False                False                True   \n",
       "...                    ...                  ...                 ...   \n",
       "28556                 True                False                True   \n",
       "28557                False                 True                True   \n",
       "28558                False                False               False   \n",
       "28559                 True                False                True   \n",
       "28560                False                False                True   \n",
       "\n",
       "       TestPrep_none  IsFirstChild_yes  \n",
       "0               True              True  \n",
       "1               True              True  \n",
       "2               True              True  \n",
       "3               True             False  \n",
       "4               True              True  \n",
       "...              ...               ...  \n",
       "28556           True             False  \n",
       "28557           True             False  \n",
       "28558          False             False  \n",
       "28559          False             False  \n",
       "28560           True             False  \n",
       "\n",
       "[28561 rows x 13 columns]"
      ]
     },
     "execution_count": 49,
     "metadata": {},
     "output_type": "execute_result"
    }
   ],
   "source": [
    "df"
   ]
  },
  {
   "cell_type": "code",
   "execution_count": 50,
   "metadata": {},
   "outputs": [],
   "source": [
    "# tenemos que definir que es cada variable\n",
    "# variable target la llamaremos y, es nuestra variable objetivo(la variable dependiente), la que quiero predecir /\n",
    "# / la quito del dataframe de las variables X (llamadas también features)\n",
    "y = df[\"MathScore\"]\n",
    "X = df.drop([\"MathScore\"], axis = 1)\n",
    "X_train, X_test, y_train, y_test = train_test_split(X, y, test_size=0.2, random_state=42)\n"
   ]
  },
  {
   "cell_type": "markdown",
   "metadata": {},
   "source": [
    "## - LINEAR REGRESSION"
   ]
  },
  {
   "cell_type": "markdown",
   "metadata": {},
   "source": [
    "1. Si se usan modelos lineales (como regresión lineal), una forma simple de reducir la multicolinealidad es eliminar una de las variables altamente correlacionadas."
   ]
  },
  {
   "cell_type": "code",
   "execution_count": 51,
   "metadata": {},
   "outputs": [
    {
     "name": "stdout",
     "output_type": "stream",
     "text": [
      "R2: 0.284\n",
      "El MSE es: 165.01311955298223\n"
     ]
    }
   ],
   "source": [
    "# Dividir en entrenamiento y prueba\n",
    "X_train, X_test, y_train, y_test = train_test_split(X, y, test_size=0.2, random_state=42)\n",
    "lm = LinearRegression()\n",
    "model= lm.fit(X_train, y_train)\n",
    "print(f\"R2: {round(lm.score(X,y), 3)}\") # score es llamar a R2 // a partir de 0.7 bien\n",
    "y_pred = lm.predict(X_test)\n",
    "mse = mean_squared_error(y_test, y_pred) \n",
    "print(f\"El MSE es: {mse}\")"
   ]
  },
  {
   "cell_type": "markdown",
   "metadata": {},
   "source": [
    "## - RIDGE Y LASSO"
   ]
  },
  {
   "cell_type": "markdown",
   "metadata": {},
   "source": [
    "2. Si preferimos mantener todas las variables en el modelo, podemos usar un modelo de regresión con regularización como Ridge Regression (L2) o Lasso Regression (L1), que penaliza las variables con coeficientes grandes. Esto ayudará a manejar la multicolinealidad sin necesidad de eliminar columnas."
   ]
  },
  {
   "cell_type": "code",
   "execution_count": 52,
   "metadata": {},
   "outputs": [
    {
     "name": "stdout",
     "output_type": "stream",
     "text": [
      "📘 Ridge:\n",
      "Mean Squared Error: 165.0128\n",
      "R2 (Coeficiente de Determinación): 0.2736\n",
      "\n",
      "📘 Lasso:\n",
      "MSE (Error Cuadrático Medio): 165.4102\n",
      "R2 (Coeficiente de Determinación): 0.2719\n",
      "\n"
     ]
    }
   ],
   "source": [
    "# Definir variables independientes (X) y dependientes (y)\n",
    "y = df[\"MathScore\"]\n",
    "X = df.drop([\"MathScore\"], axis = 1)\n",
    "\n",
    "# Dividir en conjunto de entrenamiento y prueba\n",
    "X_train, X_test, y_train, y_test = train_test_split(X, y, test_size=0.2, random_state=42)\n",
    "\n",
    "# Entrenando el modelo Ridge\n",
    "ridge = Ridge(alpha=1)\n",
    "ridge.fit(X_train, y_train)\n",
    "y_pred_ridge = ridge.predict(X_test)\n",
    "# Evaluación del modelo\n",
    "mse_ridge = mean_squared_error(y_test, y_pred_ridge)\n",
    "r2_ridge = r2_score(y_test, y_pred_ridge)\n",
    "print(\"📘 Ridge:\")\n",
    "print(f\"Mean Squared Error: {mse_ridge:.4f}\")\n",
    "print(f\"R2 (Coeficiente de Determinación): {r2_ridge:.4f}\\n\")\n",
    "\n",
    "# **3️⃣ Lasso (con penalización L1)**\n",
    "lasso = Lasso(alpha=0.1)  # alpha controla la fuerza de la penalización. Cuanto más alpha, más se polariza la insignificancia de variables. \n",
    "# alpha=0 es lo mismo que hacer lineal. Más comunes: 0.0001, 0.001, 0.01, 0.1, 1\n",
    "lasso.fit(X_train, y_train)\n",
    "y_pred_lasso = lasso.predict(X_test)\n",
    "# Evaluación del modelo\n",
    "mse_lasso = mean_squared_error(y_test, y_pred_lasso)\n",
    "r2_lasso = r2_score(y_test, y_pred_lasso)\n",
    "print(\"📘 Lasso:\")\n",
    "print(f\"MSE (Error Cuadrático Medio): {mse_lasso:.4f}\")\n",
    "print(f\"R2 (Coeficiente de Determinación): {r2_lasso:.4f}\\n\")"
   ]
  },
  {
   "cell_type": "markdown",
   "metadata": {},
   "source": [
    "## ¿Y que pasa si el modelo sigue una tendencia no lineal?"
   ]
  },
  {
   "cell_type": "markdown",
   "metadata": {},
   "source": [
    "## - KNN: funciona mejor con menos variables"
   ]
  },
  {
   "cell_type": "code",
   "execution_count": 54,
   "metadata": {},
   "outputs": [],
   "source": [
    "# ELIMINO LAS COLUMNAS NR SIBLINGS Y ISFIRSTCHILD\n",
    "df.drop(columns= [\"NrSiblings\", \"IsFirstChild_yes\"], inplace=True, axis=1)"
   ]
  },
  {
   "cell_type": "code",
   "execution_count": 55,
   "metadata": {},
   "outputs": [
    {
     "name": "stdout",
     "output_type": "stream",
     "text": [
      "MSE (Error Cuadrático Medio): 169.9759\n",
      "R2 (Coeficiente de Determinación): 0.2518\n"
     ]
    }
   ],
   "source": [
    "y = df[\"MathScore\"]\n",
    "X = df.drop([\"MathScore\"], axis = 1)\n",
    "X_train, X_test, y_train, y_test = train_test_split(X, y, test_size=0.2, random_state=42)\n",
    "# Escalar los datos (importante para KNN, Lasso, Ridge)\n",
    "scaler = StandardScaler()\n",
    "X_train_scaled = scaler.fit_transform(X_train)\n",
    "X_test_scaled = scaler.transform(X_test)\n",
    "# Crear y entrenar el modelo KNN Regressor\n",
    "knn_model = KNeighborsRegressor(n_neighbors=100, weights='uniform', metric=\"manhattan\")  # n_neighbors=5 y pesos basados en la distancia\n",
    "# Neighbors= Vecinos que se escogen para predecir. \n",
    "# Weights: puede ser distance o uniform, según si la importancia de los vecinos es igual o depende de cuánto de cerca esté\n",
    "# Metric: Cómo se evalúa la distancia entre puntos. minkowski, manhattan, euclidean son los más comunes\n",
    "knn_model.fit(X_train, y_train)\n",
    "\n",
    "# Predicciones para el test\n",
    "y_pred = knn_model.predict(X_test)\n",
    "\n",
    "# Evaluación del modelo\n",
    "mse = mean_squared_error(y_test, y_pred)\n",
    "r2 = r2_score(y_test, y_pred)\n",
    "\n",
    "print(f'MSE (Error Cuadrático Medio): {mse:.4f}')\n",
    "print(f'R2 (Coeficiente de Determinación): {r2:.4f}')\n"
   ]
  },
  {
   "cell_type": "markdown",
   "metadata": {},
   "source": [
    "## - SVR: permite más variables"
   ]
  },
  {
   "cell_type": "code",
   "execution_count": 53,
   "metadata": {},
   "outputs": [
    {
     "name": "stdout",
     "output_type": "stream",
     "text": [
      "MSE (Error Cuadrático Medio): 165.2537\n",
      "R2 (Coeficiente de Determinación): 0.2726\n"
     ]
    }
   ],
   "source": [
    "# Generar datos sintéticos\n",
    "\n",
    "# Crear y entrenar un modelo SVR con kernel 'rbf' (para no linealidad). Puede ser 'linear', o 'poly'. \n",
    "# Para no lineal también se usa \"sigmoid\" para relaciones logísticas\n",
    "y = df[\"MathScore\"]\n",
    "X = df.drop([\"MathScore\"], axis = 1)\n",
    "X_train, X_test, y_train, y_test = train_test_split(X, y, test_size=0.2, random_state=42)\n",
    "svr = SVR(kernel='linear', C=10, epsilon=0.1) \n",
    "# C: Bajo vs alto: General (suave) o Ajuste preciso (ojo overfitting). \n",
    "# Poly: degree= Controla el grado de polinomio (2, 3, 4, 5)\n",
    "# Gamma (todos menos linear): Controla la influencia de cada punto. gamma baja= puntos lejanos tienen más influencia (0.01). \n",
    "#Gamma alta(1, 10): Puntos cercanos tienen más influencia. Ojo con el sobreajuste. 'scale', 'auto', o 0.01, 0.1, 1\n",
    "# Epsilon: Ignorar errores. Si es alto, ignora más\n",
    "\n",
    "svr.fit(X_train, y_train)\n",
    "# Predicciones\n",
    "y_pred = svr.predict(X_test)\n",
    "# Evaluar el rendimiento\n",
    "mse = mean_squared_error(y_test, y_pred)\n",
    "r2 = r2_score(y_test, y_pred)\n",
    "\n",
    "print(f'MSE (Error Cuadrático Medio): {mse:.4f}')\n",
    "print(f'R2 (Coeficiente de Determinación): {r2:.4f}')"
   ]
  },
  {
   "cell_type": "markdown",
   "metadata": {},
   "source": [
    "# OPCIÓN 2: TRATANDO CON LA MULTICOLINEALIDAD"
   ]
  },
  {
   "cell_type": "markdown",
   "metadata": {},
   "source": [
    "### 2.1: ME QUEDO CON EL WRITING SCORE    "
   ]
  },
  {
   "cell_type": "code",
   "execution_count": 16,
   "metadata": {},
   "outputs": [],
   "source": [
    "df2 = pd.read_csv(\"Data/StudentsMathWritingScoresAnalisis.csv\")"
   ]
  },
  {
   "cell_type": "code",
   "execution_count": 17,
   "metadata": {},
   "outputs": [
    {
     "name": "stdout",
     "output_type": "stream",
     "text": [
      "<class 'pandas.core.frame.DataFrame'>\n",
      "RangeIndex: 28561 entries, 0 to 28560\n",
      "Data columns (total 14 columns):\n",
      " #   Column               Non-Null Count  Dtype\n",
      "---  ------               --------------  -----\n",
      " 0   NrSiblings           28561 non-null  int64\n",
      " 1   MathScore            28561 non-null  int64\n",
      " 2   WritingScore         28561 non-null  int64\n",
      " 3   ParentEduc           28561 non-null  int64\n",
      " 4   PracticeSport        28561 non-null  int64\n",
      " 5   WklyStudyHours       28561 non-null  int64\n",
      " 6   Gender_male          28561 non-null  int64\n",
      " 7   EthnicGroup_group B  28561 non-null  int64\n",
      " 8   EthnicGroup_group C  28561 non-null  int64\n",
      " 9   EthnicGroup_group D  28561 non-null  int64\n",
      " 10  EthnicGroup_group E  28561 non-null  int64\n",
      " 11  LunchType_standard   28561 non-null  int64\n",
      " 12  TestPrep_none        28561 non-null  int64\n",
      " 13  IsFirstChild_yes     28561 non-null  int64\n",
      "dtypes: int64(14)\n",
      "memory usage: 3.1 MB\n"
     ]
    }
   ],
   "source": [
    "df2.info()"
   ]
  },
  {
   "cell_type": "markdown",
   "metadata": {},
   "source": [
    "OLS "
   ]
  },
  {
   "cell_type": "code",
   "execution_count": 18,
   "metadata": {},
   "outputs": [
    {
     "name": "stdout",
     "output_type": "stream",
     "text": [
      "                            OLS Regression Results                            \n",
      "==============================================================================\n",
      "Dep. Variable:              MathScore   R-squared:                       0.863\n",
      "Model:                            OLS   Adj. R-squared:                  0.863\n",
      "Method:                 Least Squares   F-statistic:                 1.385e+04\n",
      "Date:                Sun, 26 Jan 2025   Prob (F-statistic):               0.00\n",
      "Time:                        13:31:39   Log-Likelihood:                -89509.\n",
      "No. Observations:               28561   AIC:                         1.790e+05\n",
      "Df Residuals:                   28547   BIC:                         1.792e+05\n",
      "Df Model:                          13                                         \n",
      "Covariance Type:            nonrobust                                         \n",
      "=======================================================================================\n",
      "                          coef    std err          t      P>|t|      [0.025      0.975]\n",
      "---------------------------------------------------------------------------------------\n",
      "const                  -9.3386      0.246    -37.994      0.000      -9.820      -8.857\n",
      "NrSiblings             -0.0090      0.023     -0.397      0.691      -0.054       0.035\n",
      "WritingScore            0.9191      0.003    347.644      0.000       0.914       0.924\n",
      "ParentEduc             -0.3954      0.027    -14.755      0.000      -0.448      -0.343\n",
      "PracticeSport           0.3323      0.050      6.633      0.000       0.234       0.431\n",
      "WklyStudyHours          0.8014      0.050     16.140      0.000       0.704       0.899\n",
      "Gender_male            13.1436      0.070    188.397      0.000      13.007      13.280\n",
      "EthnicGroup_group B     0.1051      0.144      0.732      0.464      -0.176       0.386\n",
      "EthnicGroup_group C     0.2317      0.134      1.732      0.083      -0.031       0.494\n",
      "EthnicGroup_group D    -0.5206      0.140     -3.729      0.000      -0.794      -0.247\n",
      "EthnicGroup_group E     5.5242      0.153     36.111      0.000       5.224       5.824\n",
      "LunchType_standard      3.6989      0.073     50.853      0.000       3.556       3.841\n",
      "TestPrep_none           4.0152      0.074     54.100      0.000       3.870       4.161\n",
      "IsFirstChild_yes        0.1050      0.069      1.520      0.128      -0.030       0.240\n",
      "==============================================================================\n",
      "Omnibus:                       14.176   Durbin-Watson:                   1.987\n",
      "Prob(Omnibus):                  0.001   Jarque-Bera (JB):               13.690\n",
      "Skew:                          -0.037   Prob(JB):                      0.00106\n",
      "Kurtosis:                       2.922   Cond. No.                         643.\n",
      "==============================================================================\n",
      "\n",
      "Notes:\n",
      "[1] Standard Errors assume that the covariance matrix of the errors is correctly specified.\n"
     ]
    }
   ],
   "source": [
    "y = df2[\"MathScore\"]\n",
    "X = df2.drop([\"MathScore\"], axis = 1)\n",
    "X = sm.add_constant(X) # añadir la constante (muy importante), no es lo mismo que corte en y=0 que en y=4\n",
    "model = sm.OLS(y, X).fit()\n",
    "# visualizar el modelo\n",
    "print(model.summary())\n",
    "# los coeficientes son las Betas, cómo el cambio de x afecta a la y\n",
    "# p value > 0.05 no rechazamos la Hipotesis nula / menor de 0.05 sí rechazamos la hipotesis nula\n"
   ]
  },
  {
   "cell_type": "markdown",
   "metadata": {},
   "source": [
    "PRUEBO A QUITAR NR OF SIBLINGS Y GRUPO B PORQUE ME DAN UN P VALUE MUY ALTO:\n",
    "ESTAS VARIABLES NO EXPLICAN EL MODELO"
   ]
  },
  {
   "cell_type": "code",
   "execution_count": 19,
   "metadata": {},
   "outputs": [],
   "source": [
    "df2.drop(columns= [\"NrSiblings\", \"EthnicGroup_group B\", \"IsFirstChild_yes\"], inplace=True, axis=1)"
   ]
  },
  {
   "cell_type": "code",
   "execution_count": 20,
   "metadata": {},
   "outputs": [
    {
     "name": "stdout",
     "output_type": "stream",
     "text": [
      "                            OLS Regression Results                            \n",
      "==============================================================================\n",
      "Dep. Variable:              MathScore   R-squared:                       0.863\n",
      "Model:                            OLS   Adj. R-squared:                  0.863\n",
      "Method:                 Least Squares   F-statistic:                 1.800e+04\n",
      "Date:                Sun, 26 Jan 2025   Prob (F-statistic):               0.00\n",
      "Time:                        13:32:07   Log-Likelihood:                -89511.\n",
      "No. Observations:               28561   AIC:                         1.790e+05\n",
      "Df Residuals:                   28550   BIC:                         1.791e+05\n",
      "Df Model:                          10                                         \n",
      "Covariance Type:            nonrobust                                         \n",
      "=======================================================================================\n",
      "                          coef    std err          t      P>|t|      [0.025      0.975]\n",
      "---------------------------------------------------------------------------------------\n",
      "const                  -9.2198      0.213    -43.370      0.000      -9.637      -8.803\n",
      "WritingScore            0.9191      0.003    347.723      0.000       0.914       0.924\n",
      "ParentEduc             -0.3954      0.027    -14.756      0.000      -0.448      -0.343\n",
      "PracticeSport           0.3334      0.050      6.657      0.000       0.235       0.432\n",
      "WklyStudyHours          0.8008      0.050     16.128      0.000       0.703       0.898\n",
      "Gender_male            13.1446      0.070    188.418      0.000      13.008      13.281\n",
      "EthnicGroup_group C     0.1546      0.085      1.829      0.067      -0.011       0.320\n",
      "EthnicGroup_group D    -0.5970      0.093     -6.396      0.000      -0.780      -0.414\n",
      "EthnicGroup_group E     5.4468      0.112     48.494      0.000       5.227       5.667\n",
      "LunchType_standard      3.6983      0.073     50.848      0.000       3.556       3.841\n",
      "TestPrep_none           4.0150      0.074     54.106      0.000       3.870       4.160\n",
      "==============================================================================\n",
      "Omnibus:                       14.151   Durbin-Watson:                   1.987\n",
      "Prob(Omnibus):                  0.001   Jarque-Bera (JB):               13.664\n",
      "Skew:                          -0.037   Prob(JB):                      0.00108\n",
      "Kurtosis:                       2.922   Cond. No.                         469.\n",
      "==============================================================================\n",
      "\n",
      "Notes:\n",
      "[1] Standard Errors assume that the covariance matrix of the errors is correctly specified.\n"
     ]
    }
   ],
   "source": [
    "y = df2[\"MathScore\"]\n",
    "X = df2.drop([\"MathScore\"], axis = 1)\n",
    "X = sm.add_constant(X) # añadir la constante (muy importante), no es lo mismo que corte en y=0 que en y=4\n",
    "model = sm.OLS(y, X).fit()\n",
    "# visualizar el modelo\n",
    "print(model.summary())\n",
    "# los coeficientes son las Betas, cómo el cambio de x afecta a la y\n",
    "# p value > 0.05 no rechazamos la Hipotesis nula / menor de 0.05 sí rechazamos la hipotesis nula\n"
   ]
  },
  {
   "cell_type": "markdown",
   "metadata": {},
   "source": [
    "APLICO RIDGE Y LASSO"
   ]
  },
  {
   "cell_type": "code",
   "execution_count": null,
   "metadata": {},
   "outputs": [
    {
     "name": "stdout",
     "output_type": "stream",
     "text": [
      "📘 Ridge:\n",
      "Mean Squared Error: 30.4932\n",
      "R2 (Coeficiente de Determinación): 0.8658\n",
      "\n",
      "📘 Lasso:\n",
      "MSE (Error Cuadrático Medio): 30.6007\n",
      "R2 (Coeficiente de Determinación): 0.8653\n",
      "\n"
     ]
    }
   ],
   "source": [
    "# Definir variables independientes (X) y dependientes (y)\n",
    "y = df2[\"MathScore\"]\n",
    "X = df2.drop([\"MathScore\"], axis = 1)\n",
    "\n",
    "# Dividir en conjunto de entrenamiento y prueba\n",
    "X_train, X_test, y_train, y_test = train_test_split(X, y, test_size=0.2, random_state=42)\n",
    "\n",
    "# Escalar los datos (importante para KNN, Lasso, Ridge)\n",
    "scaler = StandardScaler()\n",
    "X_train_scaled = scaler.fit_transform(X_train)\n",
    "X_test_scaled = scaler.transform(X_test)\n",
    "\n",
    "# Entrenando el modelo Ridge\n",
    "ridge = Ridge(alpha=1)\n",
    "ridge.fit(X_train_scaled, y_train)\n",
    "y_pred_ridge = ridge.predict(X_test_scaled)\n",
    "# Evaluación del modelo\n",
    "mse_ridge = mean_squared_error(y_test, y_pred_ridge)\n",
    "r2_ridge = r2_score(y_test, y_pred_ridge)\n",
    "print(\"📘 Ridge:\")\n",
    "print(f\"Mean Squared Error: {mse_ridge:.4f}\")\n",
    "print(f\"R2 (Coeficiente de Determinación): {r2_ridge:.4f}\\n\")\n",
    "\n",
    "# **3️⃣ Lasso (con penalización L1)**\n",
    "lasso = Lasso(alpha=0.1)  # alpha controla la fuerza de la penalización. Cuanto más alpha, más se polariza la insignificancia de variables. \n",
    "# alpha=0 es lo mismo que hacer lineal. Más comunes: 0.0001, 0.001, 0.01, 0.1, 1\n",
    "lasso.fit(X_train_scaled, y_train)\n",
    "y_pred_lasso = lasso.predict(X_test_scaled)\n",
    "# Evaluación del modelo\n",
    "mse_lasso = mean_squared_error(y_test, y_pred_lasso)\n",
    "r2_lasso = r2_score(y_test, y_pred_lasso)\n",
    "print(\"📘 Lasso:\")\n",
    "print(f\"MSE (Error Cuadrático Medio): {mse_lasso:.4f}\")\n",
    "print(f\"R2 (Coeficiente de Determinación): {r2_lasso:.4f}\\n\")"
   ]
  },
  {
   "cell_type": "markdown",
   "metadata": {},
   "source": [
    "### 2.2: ME QUEDO CON LA MEDIA DE READINGSCORE Y WRITINGSCORE"
   ]
  },
  {
   "cell_type": "code",
   "execution_count": 22,
   "metadata": {},
   "outputs": [],
   "source": [
    "df3 = pd.read_csv(\"Data/StudentsMathandAVGScoresAnalisis.csv\")"
   ]
  },
  {
   "cell_type": "code",
   "execution_count": 23,
   "metadata": {},
   "outputs": [
    {
     "name": "stdout",
     "output_type": "stream",
     "text": [
      "<class 'pandas.core.frame.DataFrame'>\n",
      "RangeIndex: 28561 entries, 0 to 28560\n",
      "Data columns (total 14 columns):\n",
      " #   Column               Non-Null Count  Dtype  \n",
      "---  ------               --------------  -----  \n",
      " 0   NrSiblings           28561 non-null  int64  \n",
      " 1   MathScore            28561 non-null  int64  \n",
      " 2   AvgWritingReading    28561 non-null  float64\n",
      " 3   ParentEduc           28561 non-null  int64  \n",
      " 4   PracticeSport        28561 non-null  int64  \n",
      " 5   WklyStudyHours       28561 non-null  int64  \n",
      " 6   Gender_male          28561 non-null  int64  \n",
      " 7   EthnicGroup_group B  28561 non-null  int64  \n",
      " 8   EthnicGroup_group C  28561 non-null  int64  \n",
      " 9   EthnicGroup_group D  28561 non-null  int64  \n",
      " 10  EthnicGroup_group E  28561 non-null  int64  \n",
      " 11  LunchType_standard   28561 non-null  int64  \n",
      " 12  TestPrep_none        28561 non-null  int64  \n",
      " 13  IsFirstChild_yes     28561 non-null  int64  \n",
      "dtypes: float64(1), int64(13)\n",
      "memory usage: 3.1 MB\n"
     ]
    }
   ],
   "source": [
    "df3.info()"
   ]
  },
  {
   "cell_type": "markdown",
   "metadata": {},
   "source": [
    "OLS"
   ]
  },
  {
   "cell_type": "code",
   "execution_count": 24,
   "metadata": {},
   "outputs": [
    {
     "name": "stdout",
     "output_type": "stream",
     "text": [
      "                            OLS Regression Results                            \n",
      "==============================================================================\n",
      "Dep. Variable:              MathScore   R-squared:                       0.866\n",
      "Model:                            OLS   Adj. R-squared:                  0.866\n",
      "Method:                 Least Squares   F-statistic:                 1.415e+04\n",
      "Date:                Sun, 26 Jan 2025   Prob (F-statistic):               0.00\n",
      "Time:                        13:33:45   Log-Likelihood:                -89245.\n",
      "No. Observations:               28561   AIC:                         1.785e+05\n",
      "Df Residuals:                   28547   BIC:                         1.786e+05\n",
      "Df Model:                          13                                         \n",
      "Covariance Type:            nonrobust                                         \n",
      "=======================================================================================\n",
      "                          coef    std err          t      P>|t|      [0.025      0.975]\n",
      "---------------------------------------------------------------------------------------\n",
      "const                 -10.0848      0.245    -41.205      0.000     -10.565      -9.605\n",
      "NrSiblings             -0.0058      0.023     -0.256      0.798      -0.050       0.038\n",
      "AvgWritingReading       0.9233      0.003    351.626      0.000       0.918       0.928\n",
      "ParentEduc             -0.1445      0.026     -5.479      0.000      -0.196      -0.093\n",
      "PracticeSport           0.6897      0.050     13.914      0.000       0.593       0.787\n",
      "WklyStudyHours          0.9075      0.049     18.455      0.000       0.811       1.004\n",
      "Gender_male            12.2962      0.068    179.914      0.000      12.162      12.430\n",
      "EthnicGroup_group B     0.1117      0.142      0.785      0.432      -0.167       0.390\n",
      "EthnicGroup_group C     0.2617      0.133      1.974      0.048       0.002       0.522\n",
      "EthnicGroup_group D     0.3779      0.138      2.737      0.006       0.107       0.649\n",
      "EthnicGroup_group E     5.4416      0.152     35.895      0.000       5.144       5.739\n",
      "LunchType_standard      4.0882      0.072     57.006      0.000       3.948       4.229\n",
      "TestPrep_none           2.7228      0.072     37.599      0.000       2.581       2.865\n",
      "IsFirstChild_yes        0.0680      0.068      0.994      0.320      -0.066       0.202\n",
      "==============================================================================\n",
      "Omnibus:                       13.049   Durbin-Watson:                   1.987\n",
      "Prob(Omnibus):                  0.001   Jarque-Bera (JB):               12.727\n",
      "Skew:                          -0.038   Prob(JB):                      0.00172\n",
      "Kurtosis:                       2.930   Cond. No.                         647.\n",
      "==============================================================================\n",
      "\n",
      "Notes:\n",
      "[1] Standard Errors assume that the covariance matrix of the errors is correctly specified.\n"
     ]
    }
   ],
   "source": [
    "y = df3[\"MathScore\"]\n",
    "X = df3.drop([\"MathScore\"], axis = 1)\n",
    "X = sm.add_constant(X) # añadir la constante (muy importante), no es lo mismo que corte en y=0 que en y=4\n",
    "model = sm.OLS(y, X).fit()\n",
    "# visualizar el modelo\n",
    "print(model.summary())\n",
    "# los coeficientes son las Betas, cómo el cambio de x afecta a la y\n",
    "# p value > 0.05 no rechazamos la Hipotesis nula / menor de 0.05 sí rechazamos la hipotesis nula"
   ]
  },
  {
   "cell_type": "code",
   "execution_count": 25,
   "metadata": {},
   "outputs": [],
   "source": [
    "df3.drop(columns= [\"NrSiblings\", \"EthnicGroup_group B\", \"IsFirstChild_yes\"], inplace=True, axis=1)"
   ]
  },
  {
   "cell_type": "code",
   "execution_count": 26,
   "metadata": {},
   "outputs": [
    {
     "name": "stdout",
     "output_type": "stream",
     "text": [
      "                            OLS Regression Results                            \n",
      "==============================================================================\n",
      "Dep. Variable:              MathScore   R-squared:                       0.866\n",
      "Model:                            OLS   Adj. R-squared:                  0.866\n",
      "Method:                 Least Squares   F-statistic:                 1.839e+04\n",
      "Date:                Sun, 26 Jan 2025   Prob (F-statistic):               0.00\n",
      "Time:                        13:33:52   Log-Likelihood:                -89246.\n",
      "No. Observations:               28561   AIC:                         1.785e+05\n",
      "Df Residuals:                   28550   BIC:                         1.786e+05\n",
      "Df Model:                          10                                         \n",
      "Covariance Type:            nonrobust                                         \n",
      "=======================================================================================\n",
      "                          coef    std err          t      P>|t|      [0.025      0.975]\n",
      "---------------------------------------------------------------------------------------\n",
      "const                  -9.9766      0.212    -47.046      0.000     -10.392      -9.561\n",
      "AvgWritingReading       0.9234      0.003    351.717      0.000       0.918       0.929\n",
      "ParentEduc             -0.1445      0.026     -5.480      0.000      -0.196      -0.093\n",
      "PracticeSport           0.6903      0.050     13.930      0.000       0.593       0.787\n",
      "WklyStudyHours          0.9070      0.049     18.445      0.000       0.811       1.003\n",
      "Gender_male            12.2968      0.068    179.935      0.000      12.163      12.431\n",
      "EthnicGroup_group C     0.1803      0.084      2.152      0.031       0.016       0.344\n",
      "EthnicGroup_group D     0.2970      0.092      3.223      0.001       0.116       0.478\n",
      "EthnicGroup_group E     5.3599      0.111     48.150      0.000       5.142       5.578\n",
      "LunchType_standard      4.0876      0.072     57.001      0.000       3.947       4.228\n",
      "TestPrep_none           2.7225      0.072     37.601      0.000       2.581       2.864\n",
      "==============================================================================\n",
      "Omnibus:                       13.053   Durbin-Watson:                   1.987\n",
      "Prob(Omnibus):                  0.001   Jarque-Bera (JB):               12.727\n",
      "Skew:                          -0.038   Prob(JB):                      0.00172\n",
      "Kurtosis:                       2.930   Cond. No.                         473.\n",
      "==============================================================================\n",
      "\n",
      "Notes:\n",
      "[1] Standard Errors assume that the covariance matrix of the errors is correctly specified.\n"
     ]
    }
   ],
   "source": [
    "y = df3[\"MathScore\"]\n",
    "X = df3.drop([\"MathScore\"], axis = 1)\n",
    "X = sm.add_constant(X) # añadir la constante (muy importante), no es lo mismo que corte en y=0 que en y=4\n",
    "model = sm.OLS(y, X).fit()\n",
    "# visualizar el modelo\n",
    "print(model.summary())\n",
    "# los coeficientes son las Betas, cómo el cambio de x afecta a la y\n",
    "# p value > 0.05 no rechazamos la Hipotesis nula / menor de 0.05 sí rechazamos la hipotesis nula\n"
   ]
  },
  {
   "cell_type": "markdown",
   "metadata": {},
   "source": [
    "APLICO RIDGE Y LASSO"
   ]
  },
  {
   "cell_type": "code",
   "execution_count": 27,
   "metadata": {},
   "outputs": [
    {
     "name": "stdout",
     "output_type": "stream",
     "text": [
      "📘 Ridge:\n",
      "Mean Squared Error: 29.8671\n",
      "R2 (Coeficiente de Determinación): 0.8685\n",
      "\n",
      "📘 Lasso:\n",
      "MSE (Error Cuadrático Medio): 30.1569\n",
      "R2 (Coeficiente de Determinación): 0.8672\n",
      "\n"
     ]
    }
   ],
   "source": [
    "# Definir variables independientes (X) y dependientes (y)\n",
    "y = df3[\"MathScore\"]\n",
    "X = df3.drop([\"MathScore\"], axis = 1)\n",
    "\n",
    "# Dividir en conjunto de entrenamiento y prueba\n",
    "X_train, X_test, y_train, y_test = train_test_split(X, y, test_size=0.2, random_state=42)\n",
    "\n",
    "# Escalar los datos (importante para KNN, Lasso, Ridge)\n",
    "scaler = StandardScaler()\n",
    "X_train_scaled = scaler.fit_transform(X_train)\n",
    "X_test_scaled = scaler.transform(X_test)\n",
    "\n",
    "# Entrenando el modelo Ridge\n",
    "ridge = Ridge(alpha=1)\n",
    "ridge.fit(X_train, y_train)\n",
    "# Predicciones\n",
    "y_pred_ridge = ridge.predict(X_test)\n",
    "# Evaluación del modelo\n",
    "mse_ridge = mean_squared_error(y_test, y_pred_ridge)\n",
    "r2_ridge = r2_score(y_test, y_pred_ridge)\n",
    "print(\"📘 Ridge:\")\n",
    "print(f\"Mean Squared Error: {mse_ridge:.4f}\")\n",
    "print(f\"R2 (Coeficiente de Determinación): {r2_ridge:.4f}\\n\")\n",
    "\n",
    "# **3️⃣ Lasso (con penalización L1)**\n",
    "lasso = Lasso(alpha=0.1)  # alpha controla la fuerza de la penalización. Cuanto más alpha, más se polariza la insignificancia de variables. \n",
    "# alpha=0 es lo mismo que hacer lineal. Más comunes: 0.0001, 0.001, 0.01, 0.1, 1\n",
    "lasso.fit(X_train, y_train)\n",
    "y_pred_lasso = lasso.predict(X_test)\n",
    "# Evaluación del modelo\n",
    "mse_lasso = mean_squared_error(y_test, y_pred_lasso)\n",
    "r2_lasso = r2_score(y_test, y_pred_lasso)\n",
    "print(\"📘 Lasso:\")\n",
    "print(f\"MSE (Error Cuadrático Medio): {mse_lasso:.4f}\")\n",
    "print(f\"R2 (Coeficiente de Determinación): {r2_lasso:.4f}\\n\")"
   ]
  },
  {
   "cell_type": "markdown",
   "metadata": {},
   "source": [
    "### Me quedo con la media de Reading y Writing Score, me da un mejor R2 y MSE"
   ]
  },
  {
   "cell_type": "code",
   "execution_count": null,
   "metadata": {},
   "outputs": [
    {
     "data": {
      "text/html": [
       "<div>\n",
       "<style scoped>\n",
       "    .dataframe tbody tr th:only-of-type {\n",
       "        vertical-align: middle;\n",
       "    }\n",
       "\n",
       "    .dataframe tbody tr th {\n",
       "        vertical-align: top;\n",
       "    }\n",
       "\n",
       "    .dataframe thead th {\n",
       "        text-align: right;\n",
       "    }\n",
       "</style>\n",
       "<table border=\"1\" class=\"dataframe\">\n",
       "  <thead>\n",
       "    <tr style=\"text-align: right;\">\n",
       "      <th></th>\n",
       "      <th>MathScore</th>\n",
       "      <th>AvgWritingReading</th>\n",
       "      <th>ParentEduc</th>\n",
       "      <th>PracticeSport</th>\n",
       "      <th>WklyStudyHours</th>\n",
       "      <th>Gender_male</th>\n",
       "      <th>EthnicGroup_group C</th>\n",
       "      <th>EthnicGroup_group D</th>\n",
       "      <th>EthnicGroup_group E</th>\n",
       "      <th>LunchType_standard</th>\n",
       "      <th>TestPrep_none</th>\n",
       "    </tr>\n",
       "  </thead>\n",
       "  <tbody>\n",
       "    <tr>\n",
       "      <th>0</th>\n",
       "      <td>71</td>\n",
       "      <td>72.5</td>\n",
       "      <td>3</td>\n",
       "      <td>2</td>\n",
       "      <td>0</td>\n",
       "      <td>0</td>\n",
       "      <td>1</td>\n",
       "      <td>0</td>\n",
       "      <td>0</td>\n",
       "      <td>1</td>\n",
       "      <td>1</td>\n",
       "    </tr>\n",
       "    <tr>\n",
       "      <th>1</th>\n",
       "      <td>69</td>\n",
       "      <td>89.0</td>\n",
       "      <td>1</td>\n",
       "      <td>1</td>\n",
       "      <td>1</td>\n",
       "      <td>0</td>\n",
       "      <td>1</td>\n",
       "      <td>0</td>\n",
       "      <td>0</td>\n",
       "      <td>1</td>\n",
       "      <td>1</td>\n",
       "    </tr>\n",
       "    <tr>\n",
       "      <th>2</th>\n",
       "      <td>87</td>\n",
       "      <td>92.0</td>\n",
       "      <td>4</td>\n",
       "      <td>1</td>\n",
       "      <td>0</td>\n",
       "      <td>0</td>\n",
       "      <td>0</td>\n",
       "      <td>0</td>\n",
       "      <td>0</td>\n",
       "      <td>1</td>\n",
       "      <td>1</td>\n",
       "    </tr>\n",
       "    <tr>\n",
       "      <th>3</th>\n",
       "      <td>45</td>\n",
       "      <td>49.0</td>\n",
       "      <td>2</td>\n",
       "      <td>0</td>\n",
       "      <td>1</td>\n",
       "      <td>1</td>\n",
       "      <td>0</td>\n",
       "      <td>0</td>\n",
       "      <td>0</td>\n",
       "      <td>0</td>\n",
       "      <td>1</td>\n",
       "    </tr>\n",
       "    <tr>\n",
       "      <th>4</th>\n",
       "      <td>76</td>\n",
       "      <td>76.5</td>\n",
       "      <td>1</td>\n",
       "      <td>1</td>\n",
       "      <td>1</td>\n",
       "      <td>1</td>\n",
       "      <td>1</td>\n",
       "      <td>0</td>\n",
       "      <td>0</td>\n",
       "      <td>1</td>\n",
       "      <td>1</td>\n",
       "    </tr>\n",
       "    <tr>\n",
       "      <th>...</th>\n",
       "      <td>...</td>\n",
       "      <td>...</td>\n",
       "      <td>...</td>\n",
       "      <td>...</td>\n",
       "      <td>...</td>\n",
       "      <td>...</td>\n",
       "      <td>...</td>\n",
       "      <td>...</td>\n",
       "      <td>...</td>\n",
       "      <td>...</td>\n",
       "      <td>...</td>\n",
       "    </tr>\n",
       "    <tr>\n",
       "      <th>28556</th>\n",
       "      <td>59</td>\n",
       "      <td>63.0</td>\n",
       "      <td>0</td>\n",
       "      <td>1</td>\n",
       "      <td>1</td>\n",
       "      <td>0</td>\n",
       "      <td>0</td>\n",
       "      <td>1</td>\n",
       "      <td>0</td>\n",
       "      <td>1</td>\n",
       "      <td>1</td>\n",
       "    </tr>\n",
       "    <tr>\n",
       "      <th>28557</th>\n",
       "      <td>58</td>\n",
       "      <td>52.0</td>\n",
       "      <td>0</td>\n",
       "      <td>2</td>\n",
       "      <td>1</td>\n",
       "      <td>1</td>\n",
       "      <td>0</td>\n",
       "      <td>0</td>\n",
       "      <td>1</td>\n",
       "      <td>1</td>\n",
       "      <td>1</td>\n",
       "    </tr>\n",
       "    <tr>\n",
       "      <th>28558</th>\n",
       "      <td>61</td>\n",
       "      <td>68.5</td>\n",
       "      <td>0</td>\n",
       "      <td>1</td>\n",
       "      <td>1</td>\n",
       "      <td>0</td>\n",
       "      <td>1</td>\n",
       "      <td>0</td>\n",
       "      <td>0</td>\n",
       "      <td>0</td>\n",
       "      <td>0</td>\n",
       "    </tr>\n",
       "    <tr>\n",
       "      <th>28559</th>\n",
       "      <td>82</td>\n",
       "      <td>91.5</td>\n",
       "      <td>2</td>\n",
       "      <td>2</td>\n",
       "      <td>1</td>\n",
       "      <td>0</td>\n",
       "      <td>0</td>\n",
       "      <td>1</td>\n",
       "      <td>0</td>\n",
       "      <td>1</td>\n",
       "      <td>0</td>\n",
       "    </tr>\n",
       "    <tr>\n",
       "      <th>28560</th>\n",
       "      <td>64</td>\n",
       "      <td>59.0</td>\n",
       "      <td>1</td>\n",
       "      <td>0</td>\n",
       "      <td>1</td>\n",
       "      <td>1</td>\n",
       "      <td>0</td>\n",
       "      <td>0</td>\n",
       "      <td>0</td>\n",
       "      <td>1</td>\n",
       "      <td>1</td>\n",
       "    </tr>\n",
       "  </tbody>\n",
       "</table>\n",
       "<p>28561 rows × 11 columns</p>\n",
       "</div>"
      ],
      "text/plain": [
       "       MathScore  AvgWritingReading  ParentEduc  PracticeSport  \\\n",
       "0             71               72.5           3              2   \n",
       "1             69               89.0           1              1   \n",
       "2             87               92.0           4              1   \n",
       "3             45               49.0           2              0   \n",
       "4             76               76.5           1              1   \n",
       "...          ...                ...         ...            ...   \n",
       "28556         59               63.0           0              1   \n",
       "28557         58               52.0           0              2   \n",
       "28558         61               68.5           0              1   \n",
       "28559         82               91.5           2              2   \n",
       "28560         64               59.0           1              0   \n",
       "\n",
       "       WklyStudyHours  Gender_male  EthnicGroup_group C  EthnicGroup_group D  \\\n",
       "0                   0            0                    1                    0   \n",
       "1                   1            0                    1                    0   \n",
       "2                   0            0                    0                    0   \n",
       "3                   1            1                    0                    0   \n",
       "4                   1            1                    1                    0   \n",
       "...               ...          ...                  ...                  ...   \n",
       "28556               1            0                    0                    1   \n",
       "28557               1            1                    0                    0   \n",
       "28558               1            0                    1                    0   \n",
       "28559               1            0                    0                    1   \n",
       "28560               1            1                    0                    0   \n",
       "\n",
       "       EthnicGroup_group E  LunchType_standard  TestPrep_none  \n",
       "0                        0                   1              1  \n",
       "1                        0                   1              1  \n",
       "2                        0                   1              1  \n",
       "3                        0                   0              1  \n",
       "4                        0                   1              1  \n",
       "...                    ...                 ...            ...  \n",
       "28556                    0                   1              1  \n",
       "28557                    1                   1              1  \n",
       "28558                    0                   0              0  \n",
       "28559                    0                   1              0  \n",
       "28560                    0                   1              1  \n",
       "\n",
       "[28561 rows x 11 columns]"
      ]
     },
     "execution_count": 98,
     "metadata": {},
     "output_type": "execute_result"
    }
   ],
   "source": [
    "df3"
   ]
  },
  {
   "cell_type": "markdown",
   "metadata": {},
   "source": [
    "# MAKE PREDICTIONS"
   ]
  },
  {
   "cell_type": "code",
   "execution_count": 30,
   "metadata": {},
   "outputs": [],
   "source": [
    "import warnings\n",
    "warnings.filterwarnings(\"ignore\")"
   ]
  },
  {
   "cell_type": "markdown",
   "metadata": {},
   "source": [
    "- Avg Writing and Reading\n",
    "- Parent Education\n",
    "- Practice Sport\n",
    "- Weekly Study Hours\n",
    "- Gender Male\n",
    "- Group C\n",
    "- Group D\n",
    "- Group E\n",
    "- Lunch Type Standard\n",
    "- Test Prep None"
   ]
  },
  {
   "cell_type": "code",
   "execution_count": 33,
   "metadata": {},
   "outputs": [],
   "source": [
    "cati = [[70, 1, 0, 1, 0, 1, 0, 0, 0, 0]]"
   ]
  },
  {
   "cell_type": "code",
   "execution_count": 34,
   "metadata": {},
   "outputs": [
    {
     "data": {
      "text/plain": [
       "55.59401720402158"
      ]
     },
     "execution_count": 34,
     "metadata": {},
     "output_type": "execute_result"
    }
   ],
   "source": [
    "ridge.predict(cati)[0]"
   ]
  }
 ],
 "metadata": {
  "kernelspec": {
   "display_name": "original",
   "language": "python",
   "name": "python3"
  },
  "language_info": {
   "codemirror_mode": {
    "name": "ipython",
    "version": 3
   },
   "file_extension": ".py",
   "mimetype": "text/x-python",
   "name": "python",
   "nbconvert_exporter": "python",
   "pygments_lexer": "ipython3",
   "version": "3.12.5"
  }
 },
 "nbformat": 4,
 "nbformat_minor": 2
}
