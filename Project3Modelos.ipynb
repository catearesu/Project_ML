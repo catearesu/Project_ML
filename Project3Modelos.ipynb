{
 "cells": [
  {
   "cell_type": "code",
   "execution_count": 123,
   "metadata": {},
   "outputs": [],
   "source": [
    "#manejo bbdd\n",
    "import pandas as pd\n",
    "import numpy as np\n",
    "\n",
    "#gráficas\n",
    "import seaborn as sns\n",
    "import matplotlib.pyplot as plt\n",
    "\n",
    "#estadística\n",
    "import math\n",
    "from scipy.stats import norm\n",
    "from scipy import stats #para box-cox entre otros\n",
    "from scipy.stats import skew\n",
    "\n",
    "\n",
    "#preprocesamiento\n",
    "from sklearn.preprocessing import MinMaxScaler\n",
    "from sklearn.preprocessing import StandardScaler\n",
    "from sklearn.preprocessing import LabelEncoder\n",
    "\n",
    "\n",
    "#modelos y evaluación\n",
    "from statsmodels.stats.outliers_influence import variance_inflation_factor\n",
    "import statsmodels.api as sm\n",
    "from statsmodels.formula.api import ols\n",
    "from sklearn.model_selection import train_test_split\n",
    "from sklearn import linear_model\n",
    "from sklearn.linear_model import LinearRegression, Ridge, Lasso\n",
    "from sklearn.neighbors import KNeighborsRegressor\n",
    "from sklearn.svm import SVR\n",
    "from sklearn.metrics import mean_squared_error,r2_score"
   ]
  },
  {
   "cell_type": "markdown",
   "metadata": {},
   "source": [
    "# OPCIÓN 1 ELIMINANDO LA MULTICOLINEALIDAD"
   ]
  },
  {
   "cell_type": "code",
   "execution_count": 124,
   "metadata": {},
   "outputs": [],
   "source": [
    "df = pd.read_csv(\"StudentsMathScoresAnalisis.csv\")"
   ]
  },
  {
   "cell_type": "code",
   "execution_count": 125,
   "metadata": {},
   "outputs": [
    {
     "data": {
      "text/html": [
       "<div>\n",
       "<style scoped>\n",
       "    .dataframe tbody tr th:only-of-type {\n",
       "        vertical-align: middle;\n",
       "    }\n",
       "\n",
       "    .dataframe tbody tr th {\n",
       "        vertical-align: top;\n",
       "    }\n",
       "\n",
       "    .dataframe thead th {\n",
       "        text-align: right;\n",
       "    }\n",
       "</style>\n",
       "<table border=\"1\" class=\"dataframe\">\n",
       "  <thead>\n",
       "    <tr style=\"text-align: right;\">\n",
       "      <th></th>\n",
       "      <th>NrSiblings</th>\n",
       "      <th>MathScore</th>\n",
       "      <th>ParentEduc</th>\n",
       "      <th>PracticeSport</th>\n",
       "      <th>WklyStudyHours</th>\n",
       "      <th>Gender_male</th>\n",
       "      <th>EthnicGroup_group B</th>\n",
       "      <th>EthnicGroup_group C</th>\n",
       "      <th>EthnicGroup_group D</th>\n",
       "      <th>EthnicGroup_group E</th>\n",
       "      <th>LunchType_standard</th>\n",
       "      <th>TestPrep_none</th>\n",
       "      <th>IsFirstChild_yes</th>\n",
       "    </tr>\n",
       "  </thead>\n",
       "  <tbody>\n",
       "    <tr>\n",
       "      <th>0</th>\n",
       "      <td>3</td>\n",
       "      <td>71</td>\n",
       "      <td>3</td>\n",
       "      <td>2</td>\n",
       "      <td>0</td>\n",
       "      <td>False</td>\n",
       "      <td>False</td>\n",
       "      <td>True</td>\n",
       "      <td>False</td>\n",
       "      <td>False</td>\n",
       "      <td>True</td>\n",
       "      <td>True</td>\n",
       "      <td>True</td>\n",
       "    </tr>\n",
       "    <tr>\n",
       "      <th>1</th>\n",
       "      <td>0</td>\n",
       "      <td>69</td>\n",
       "      <td>1</td>\n",
       "      <td>1</td>\n",
       "      <td>1</td>\n",
       "      <td>False</td>\n",
       "      <td>False</td>\n",
       "      <td>True</td>\n",
       "      <td>False</td>\n",
       "      <td>False</td>\n",
       "      <td>True</td>\n",
       "      <td>True</td>\n",
       "      <td>True</td>\n",
       "    </tr>\n",
       "    <tr>\n",
       "      <th>2</th>\n",
       "      <td>4</td>\n",
       "      <td>87</td>\n",
       "      <td>4</td>\n",
       "      <td>1</td>\n",
       "      <td>0</td>\n",
       "      <td>False</td>\n",
       "      <td>True</td>\n",
       "      <td>False</td>\n",
       "      <td>False</td>\n",
       "      <td>False</td>\n",
       "      <td>True</td>\n",
       "      <td>True</td>\n",
       "      <td>True</td>\n",
       "    </tr>\n",
       "    <tr>\n",
       "      <th>3</th>\n",
       "      <td>1</td>\n",
       "      <td>45</td>\n",
       "      <td>2</td>\n",
       "      <td>0</td>\n",
       "      <td>1</td>\n",
       "      <td>True</td>\n",
       "      <td>False</td>\n",
       "      <td>False</td>\n",
       "      <td>False</td>\n",
       "      <td>False</td>\n",
       "      <td>False</td>\n",
       "      <td>True</td>\n",
       "      <td>False</td>\n",
       "    </tr>\n",
       "    <tr>\n",
       "      <th>4</th>\n",
       "      <td>0</td>\n",
       "      <td>76</td>\n",
       "      <td>1</td>\n",
       "      <td>1</td>\n",
       "      <td>1</td>\n",
       "      <td>True</td>\n",
       "      <td>False</td>\n",
       "      <td>True</td>\n",
       "      <td>False</td>\n",
       "      <td>False</td>\n",
       "      <td>True</td>\n",
       "      <td>True</td>\n",
       "      <td>True</td>\n",
       "    </tr>\n",
       "    <tr>\n",
       "      <th>...</th>\n",
       "      <td>...</td>\n",
       "      <td>...</td>\n",
       "      <td>...</td>\n",
       "      <td>...</td>\n",
       "      <td>...</td>\n",
       "      <td>...</td>\n",
       "      <td>...</td>\n",
       "      <td>...</td>\n",
       "      <td>...</td>\n",
       "      <td>...</td>\n",
       "      <td>...</td>\n",
       "      <td>...</td>\n",
       "      <td>...</td>\n",
       "    </tr>\n",
       "    <tr>\n",
       "      <th>28556</th>\n",
       "      <td>2</td>\n",
       "      <td>59</td>\n",
       "      <td>0</td>\n",
       "      <td>1</td>\n",
       "      <td>1</td>\n",
       "      <td>False</td>\n",
       "      <td>False</td>\n",
       "      <td>False</td>\n",
       "      <td>True</td>\n",
       "      <td>False</td>\n",
       "      <td>True</td>\n",
       "      <td>True</td>\n",
       "      <td>False</td>\n",
       "    </tr>\n",
       "    <tr>\n",
       "      <th>28557</th>\n",
       "      <td>1</td>\n",
       "      <td>58</td>\n",
       "      <td>0</td>\n",
       "      <td>2</td>\n",
       "      <td>1</td>\n",
       "      <td>True</td>\n",
       "      <td>False</td>\n",
       "      <td>False</td>\n",
       "      <td>False</td>\n",
       "      <td>True</td>\n",
       "      <td>True</td>\n",
       "      <td>True</td>\n",
       "      <td>False</td>\n",
       "    </tr>\n",
       "    <tr>\n",
       "      <th>28558</th>\n",
       "      <td>1</td>\n",
       "      <td>61</td>\n",
       "      <td>0</td>\n",
       "      <td>1</td>\n",
       "      <td>1</td>\n",
       "      <td>False</td>\n",
       "      <td>False</td>\n",
       "      <td>True</td>\n",
       "      <td>False</td>\n",
       "      <td>False</td>\n",
       "      <td>False</td>\n",
       "      <td>False</td>\n",
       "      <td>False</td>\n",
       "    </tr>\n",
       "    <tr>\n",
       "      <th>28559</th>\n",
       "      <td>3</td>\n",
       "      <td>82</td>\n",
       "      <td>2</td>\n",
       "      <td>2</td>\n",
       "      <td>1</td>\n",
       "      <td>False</td>\n",
       "      <td>False</td>\n",
       "      <td>False</td>\n",
       "      <td>True</td>\n",
       "      <td>False</td>\n",
       "      <td>True</td>\n",
       "      <td>False</td>\n",
       "      <td>False</td>\n",
       "    </tr>\n",
       "    <tr>\n",
       "      <th>28560</th>\n",
       "      <td>1</td>\n",
       "      <td>64</td>\n",
       "      <td>1</td>\n",
       "      <td>0</td>\n",
       "      <td>1</td>\n",
       "      <td>True</td>\n",
       "      <td>True</td>\n",
       "      <td>False</td>\n",
       "      <td>False</td>\n",
       "      <td>False</td>\n",
       "      <td>True</td>\n",
       "      <td>True</td>\n",
       "      <td>False</td>\n",
       "    </tr>\n",
       "  </tbody>\n",
       "</table>\n",
       "<p>28561 rows × 13 columns</p>\n",
       "</div>"
      ],
      "text/plain": [
       "       NrSiblings  MathScore  ParentEduc  PracticeSport  WklyStudyHours  \\\n",
       "0               3         71           3              2               0   \n",
       "1               0         69           1              1               1   \n",
       "2               4         87           4              1               0   \n",
       "3               1         45           2              0               1   \n",
       "4               0         76           1              1               1   \n",
       "...           ...        ...         ...            ...             ...   \n",
       "28556           2         59           0              1               1   \n",
       "28557           1         58           0              2               1   \n",
       "28558           1         61           0              1               1   \n",
       "28559           3         82           2              2               1   \n",
       "28560           1         64           1              0               1   \n",
       "\n",
       "       Gender_male  EthnicGroup_group B  EthnicGroup_group C  \\\n",
       "0            False                False                 True   \n",
       "1            False                False                 True   \n",
       "2            False                 True                False   \n",
       "3             True                False                False   \n",
       "4             True                False                 True   \n",
       "...            ...                  ...                  ...   \n",
       "28556        False                False                False   \n",
       "28557         True                False                False   \n",
       "28558        False                False                 True   \n",
       "28559        False                False                False   \n",
       "28560         True                 True                False   \n",
       "\n",
       "       EthnicGroup_group D  EthnicGroup_group E  LunchType_standard  \\\n",
       "0                    False                False                True   \n",
       "1                    False                False                True   \n",
       "2                    False                False                True   \n",
       "3                    False                False               False   \n",
       "4                    False                False                True   \n",
       "...                    ...                  ...                 ...   \n",
       "28556                 True                False                True   \n",
       "28557                False                 True                True   \n",
       "28558                False                False               False   \n",
       "28559                 True                False                True   \n",
       "28560                False                False                True   \n",
       "\n",
       "       TestPrep_none  IsFirstChild_yes  \n",
       "0               True              True  \n",
       "1               True              True  \n",
       "2               True              True  \n",
       "3               True             False  \n",
       "4               True              True  \n",
       "...              ...               ...  \n",
       "28556           True             False  \n",
       "28557           True             False  \n",
       "28558          False             False  \n",
       "28559          False             False  \n",
       "28560           True             False  \n",
       "\n",
       "[28561 rows x 13 columns]"
      ]
     },
     "execution_count": 125,
     "metadata": {},
     "output_type": "execute_result"
    }
   ],
   "source": [
    "df"
   ]
  },
  {
   "cell_type": "code",
   "execution_count": 126,
   "metadata": {},
   "outputs": [],
   "source": [
    "# tenemos que definir que es cada variable\n",
    "# variable target la llamaremos y, es nuestra variable objetivo(la variable dependiente), la que quiero predecir /\n",
    "# / la quito del dataframe de las variables X (llamadas también features)\n",
    "y = df[\"MathScore\"]\n",
    "X = df.drop([\"MathScore\"], axis = 1)\n",
    "X_train, X_test, y_train, y_test = train_test_split(X, y, test_size=0.2, random_state=42)\n"
   ]
  },
  {
   "cell_type": "markdown",
   "metadata": {},
   "source": [
    "## - LINEAR REGRESSION"
   ]
  },
  {
   "cell_type": "markdown",
   "metadata": {},
   "source": [
    "1. Si usas modelos lineales (como regresión lineal o logística), una forma simple de reducir la multicolinealidad es eliminar una de las variables altamente correlacionadas."
   ]
  },
  {
   "cell_type": "code",
   "execution_count": 127,
   "metadata": {},
   "outputs": [
    {
     "name": "stdout",
     "output_type": "stream",
     "text": [
      "R2: 0.284\n",
      "El MSE es: 165.01311955298223\n"
     ]
    }
   ],
   "source": [
    "# Dividir en entrenamiento y prueba\n",
    "X_train, X_test, y_train, y_test = train_test_split(X, y, test_size=0.2, random_state=42)\n",
    "lm = linear_model.LinearRegression()\n",
    "model= lm.fit(X_train, y_train)\n",
    "print(f\"R2: {round(lm.score(X,y), 3)}\") # score es llamar a R2 // a partir de 0.7 bien\n",
    "predictions = lm.predict(X_test)\n",
    "mse = mean_squared_error(y_test, predictions) \n",
    "print(f\"El MSE es: {mse}\")"
   ]
  },
  {
   "cell_type": "markdown",
   "metadata": {},
   "source": [
    "## - RIDGE Y LASSO"
   ]
  },
  {
   "cell_type": "markdown",
   "metadata": {},
   "source": [
    "2. Si prefieres mantener todas las variables en tu modelo, puedes usar un modelo de regresión con regularización como Ridge Regression (L2) o Lasso Regression (L1), que penaliza las variables con coeficientes grandes. Esto ayudará a manejar la multicolinealidad sin necesidad de eliminar columnas."
   ]
  },
  {
   "cell_type": "code",
   "execution_count": 128,
   "metadata": {},
   "outputs": [
    {
     "name": "stdout",
     "output_type": "stream",
     "text": [
      "📘 Ridge:\n",
      "Mean Squared Error: 165.01311955298223\n",
      "R2 (Coeficiente de Determinación): 0.2736\n",
      "\n",
      "📘 Lasso:\n",
      "MSE (Error Cuadrático Medio): 165.4102\n",
      "R2 (Coeficiente de Determinación): 0.2719\n",
      "\n"
     ]
    }
   ],
   "source": [
    "# Definir variables independientes (X) y dependientes (y)\n",
    "y = df[\"MathScore\"]\n",
    "X = df.drop([\"MathScore\"], axis = 1)\n",
    "\n",
    "# Dividir en conjunto de entrenamiento y prueba\n",
    "X_train, X_test, y_train, y_test = train_test_split(X, y, test_size=0.2, random_state=42)\n",
    "\n",
    "# Escalar los datos (importante para KNN, Lasso, Ridge)\n",
    "scaler = StandardScaler()\n",
    "X_train_scaled = scaler.fit_transform(X_train)\n",
    "X_test_scaled = scaler.transform(X_test)\n",
    "\n",
    "# Entrenando el modelo Ridge\n",
    "ridge = Ridge(alpha=0.1)\n",
    "ridge.fit(X_train, y_train)\n",
    "# Predicciones\n",
    "y_pred_ridge = ridge.predict(X_test)\n",
    "# Evaluación del modelo\n",
    "mse_ridge = mean_squared_error(y_test, y_pred_ridge)\n",
    "r2_ridge = r2_score(y_test, y_pred_ridge)\n",
    "print(\"📘 Ridge:\")\n",
    "print(f\"Mean Squared Error: {mse}\")\n",
    "print(f\"R2 (Coeficiente de Determinación): {r2_ridge:.4f}\\n\")\n",
    "\n",
    "# **3️⃣ Lasso (con penalización L1)**\n",
    "lasso = Lasso(alpha=0.1)  # alpha controla la fuerza de la penalización. Cuanto más alpha, más se polariza la insignificancia de variables. \n",
    "# alpha=0 es lo mismo que hacer lineal. Más comunes: 0.0001, 0.001, 0.01, 0.1, 1\n",
    "lasso.fit(X_train, y_train)\n",
    "y_pred_lasso = lasso.predict(X_test)\n",
    "mse_lasso = mean_squared_error(y_test, y_pred_lasso)\n",
    "r2_lasso = r2_score(y_test, y_pred_lasso)\n",
    "print(\"📘 Lasso:\")\n",
    "print(f\"MSE (Error Cuadrático Medio): {mse_lasso:.4f}\")\n",
    "print(f\"R2 (Coeficiente de Determinación): {r2_lasso:.4f}\\n\")"
   ]
  },
  {
   "cell_type": "markdown",
   "metadata": {},
   "source": [
    "## y que pasa si el modelo sigue una tendencia no lineal?"
   ]
  },
  {
   "cell_type": "code",
   "execution_count": 129,
   "metadata": {},
   "outputs": [],
   "source": [
    "# Opción 1\n",
    "\n",
    "from sklearn.preprocessing import PolynomialFeatures\n",
    "\n",
    "degree=2\n",
    "poly = PolynomialFeatures(degree=degree)\n",
    "X_poly_train = poly.fit_transform(X_train)\n",
    "X_poly_test = poly.transform(X_test)"
   ]
  },
  {
   "cell_type": "code",
   "execution_count": 130,
   "metadata": {},
   "outputs": [
    {
     "name": "stdout",
     "output_type": "stream",
     "text": [
      "MSE (Error Cuadrático Medio): 165.2428\n",
      "R2 (Coeficiente de Determinación): 0.2726\n"
     ]
    }
   ],
   "source": [
    "# Opción 2\n",
    "\n",
    "from sklearn.preprocessing import PolynomialFeatures\n",
    "from sklearn.pipeline import make_pipeline\n",
    "\n",
    "# Transformación polinómica de grado 3\n",
    "poly_reg = make_pipeline(PolynomialFeatures(degree=2), LinearRegression())\n",
    "poly_reg.fit(X_train, y_train)\n",
    "\n",
    "y_pred = poly_reg.predict(X_test)\n",
    "\n",
    "# Evaluar el rendimiento\n",
    "mse = mean_squared_error(y_test, y_pred)\n",
    "r2 = r2_score(y_test, y_pred)\n",
    "\n",
    "print(f'MSE (Error Cuadrático Medio): {mse:.4f}')\n",
    "print(f'R2 (Coeficiente de Determinación): {r2:.4f}')"
   ]
  },
  {
   "cell_type": "markdown",
   "metadata": {},
   "source": [
    "## - KNN"
   ]
  },
  {
   "cell_type": "code",
   "execution_count": 131,
   "metadata": {},
   "outputs": [
    {
     "name": "stdout",
     "output_type": "stream",
     "text": [
      "MSE (Error Cuadrático Medio): 199.0724\n",
      "R2 (Coeficiente de Determinación): 0.1237\n"
     ]
    }
   ],
   "source": [
    "# ELIMINO LAS COLUMNAS NR SIBLINGS Y ISFIRSTCHILD\n",
    "df.drop(columns= [\"NrSiblings\", \"IsFirstChild_yes\"], inplace=True, axis=1)\n",
    "y = df[\"MathScore\"]\n",
    "X = df.drop([\"MathScore\"], axis = 1)\n",
    "X_train, X_test, y_train, y_test = train_test_split(X, y, test_size=0.2, random_state=42)\n",
    "# Crear y entrenar el modelo KNN Regressor\n",
    "knn_model = KNeighborsRegressor(n_neighbors=5, weights='distance', metric=\"manhattan\")  # n_neighbors=5 y pesos basados en la distancia\n",
    "# Neighbors= Vecinos que se escogen para predecir. \n",
    "# Weights: puede ser distance o uniform, según si la importancia de los vecinos es igual o depende de cuánto de cerca esté\n",
    "# Metric: Cómo se evalúa la distancia entre puntos. minkowski, manhattan, euclidean son los más comunes\n",
    "knn_model.fit(X_train, y_train)\n",
    "\n",
    "# Predicciones para el test\n",
    "y_pred = knn_model.predict(X_test)\n",
    "\n",
    "# funciona bien el modelo?\n",
    "mse = mean_squared_error(y_test, y_pred)\n",
    "r2 = r2_score(y_test, y_pred)\n",
    "\n",
    "print(f'MSE (Error Cuadrático Medio): {mse:.4f}')\n",
    "print(f'R2 (Coeficiente de Determinación): {r2:.4f}')\n"
   ]
  },
  {
   "cell_type": "code",
   "execution_count": 132,
   "metadata": {},
   "outputs": [],
   "source": [
    "metrics=[\"euclidean\", \"chebyshev\", \"manhattan\"]\n",
    "n=[3, 5, 7]\n",
    "size=[0.1, 0.2, 0.3,  0.4]"
   ]
  },
  {
   "cell_type": "code",
   "execution_count": 133,
   "metadata": {},
   "outputs": [
    {
     "name": "stdout",
     "output_type": "stream",
     "text": [
      "MSE of KNN regressor with 0.1 Test_size, with 3 number of neighbours and using the euclidean method: 227.42173219772096\n",
      "R2 of KNN regressor with 0.1 Test_size, with 3 number of neighbours and using the euclidean method: -0.007674864570117679\n",
      "MSE of KNN regressor with 0.2 Test_size, with 3 number of neighbours and using the euclidean method: 221.46535192640565\n",
      "R2 of KNN regressor with 0.2 Test_size, with 3 number of neighbours and using the euclidean method: 0.01590172737867246\n",
      "MSE of KNN regressor with 0.3 Test_size, with 3 number of neighbours and using the euclidean method: 216.13131313131314\n",
      "R2 of KNN regressor with 0.3 Test_size, with 3 number of neighbours and using the euclidean method: 0.04205479255680078\n",
      "MSE of KNN regressor with 0.4 Test_size, with 3 number of neighbours and using the euclidean method: 213.37178701677607\n",
      "R2 of KNN regressor with 0.4 Test_size, with 3 number of neighbours and using the euclidean method: 0.053865946972781464\n",
      "MSE of KNN regressor with 0.1 Test_size, with 5 number of neighbours and using the euclidean method: 201.07444172208614\n",
      "R2 of KNN regressor with 0.1 Test_size, with 5 number of neighbours and using the euclidean method: 0.1090664077140221\n",
      "MSE of KNN regressor with 0.2 Test_size, with 5 number of neighbours and using the euclidean method: 197.4260878697707\n",
      "R2 of KNN regressor with 0.2 Test_size, with 5 number of neighbours and using the euclidean method: 0.12272204047705637\n",
      "MSE of KNN regressor with 0.3 Test_size, with 5 number of neighbours and using the euclidean method: 195.90046913292102\n",
      "R2 of KNN regressor with 0.3 Test_size, with 5 number of neighbours and using the euclidean method: 0.1317226882911694\n",
      "MSE of KNN regressor with 0.4 Test_size, with 5 number of neighbours and using the euclidean method: 190.98447964989057\n",
      "R2 of KNN regressor with 0.4 Test_size, with 5 number of neighbours and using the euclidean method: 0.15313583710934442\n",
      "MSE of KNN regressor with 0.1 Test_size, with 7 number of neighbours and using the euclidean method: 192.4395219760988\n",
      "R2 of KNN regressor with 0.1 Test_size, with 7 number of neighbours and using the euclidean method: 0.14732656650151543\n",
      "MSE of KNN regressor with 0.2 Test_size, with 7 number of neighbours and using the euclidean method: 185.8707244844376\n",
      "R2 of KNN regressor with 0.2 Test_size, with 7 number of neighbours and using the euclidean method: 0.1740691837123418\n",
      "MSE of KNN regressor with 0.3 Test_size, with 7 number of neighbours and using the euclidean method: 184.97761032292485\n",
      "R2 of KNN regressor with 0.3 Test_size, with 7 number of neighbours and using the euclidean method: 0.18013538748324487\n",
      "MSE of KNN regressor with 0.4 Test_size, with 7 number of neighbours and using the euclidean method: 182.60905282900904\n",
      "R2 of KNN regressor with 0.4 Test_size, with 7 number of neighbours and using the euclidean method: 0.19027418906611215\n",
      "MSE of KNN regressor with 0.1 Test_size, with 3 number of neighbours and using the chebyshev method: 227.92256835063975\n",
      "R2 of KNN regressor with 0.1 Test_size, with 3 number of neighbours and using the chebyshev method: -0.009894001667031027\n",
      "MSE of KNN regressor with 0.2 Test_size, with 3 number of neighbours and using the chebyshev method: 221.9333099947488\n",
      "R2 of KNN regressor with 0.2 Test_size, with 3 number of neighbours and using the chebyshev method: 0.013822319820289475\n",
      "MSE of KNN regressor with 0.3 Test_size, with 3 number of neighbours and using the chebyshev method: 217.58544365347962\n",
      "R2 of KNN regressor with 0.3 Test_size, with 3 number of neighbours and using the chebyshev method: 0.035609741423187735\n",
      "MSE of KNN regressor with 0.4 Test_size, with 3 number of neighbours and using the chebyshev method: 215.11260880136155\n",
      "R2 of KNN regressor with 0.4 Test_size, with 3 number of neighbours and using the chebyshev method: 0.046146787876464535\n",
      "MSE of KNN regressor with 0.1 Test_size, with 5 number of neighbours and using the chebyshev method: 202.8844662233112\n",
      "R2 of KNN regressor with 0.1 Test_size, with 5 number of neighbours and using the chebyshev method: 0.10104643452801698\n",
      "MSE of KNN regressor with 0.2 Test_size, with 5 number of neighbours and using the chebyshev method: 198.82033257482934\n",
      "R2 of KNN regressor with 0.2 Test_size, with 5 number of neighbours and using the chebyshev method: 0.11652660722339059\n",
      "MSE of KNN regressor with 0.3 Test_size, with 5 number of neighbours and using the chebyshev method: 198.92555490722373\n",
      "R2 of KNN regressor with 0.3 Test_size, with 5 number of neighbours and using the chebyshev method: 0.11831479113081089\n",
      "MSE of KNN regressor with 0.4 Test_size, with 5 number of neighbours and using the chebyshev method: 193.78842538293216\n",
      "R2 of KNN regressor with 0.4 Test_size, with 5 number of neighbours and using the chebyshev method: 0.14070256944091353\n",
      "MSE of KNN regressor with 0.1 Test_size, with 7 number of neighbours and using the chebyshev method: 195.29071453572675\n",
      "R2 of KNN regressor with 0.1 Test_size, with 7 number of neighbours and using the chebyshev method: 0.13469331879637292\n",
      "MSE of KNN regressor with 0.2 Test_size, with 7 number of neighbours and using the chebyshev method: 188.22136409263516\n",
      "R2 of KNN regressor with 0.2 Test_size, with 7 number of neighbours and using the chebyshev method: 0.16362393637292405\n",
      "MSE of KNN regressor with 0.3 Test_size, with 7 number of neighbours and using the chebyshev method: 188.21401063634698\n",
      "R2 of KNN regressor with 0.3 Test_size, with 7 number of neighbours and using the chebyshev method: 0.16579089419954018\n",
      "MSE of KNN regressor with 0.4 Test_size, with 7 number of neighbours and using the chebyshev method: 186.0146635109186\n",
      "R2 of KNN regressor with 0.4 Test_size, with 7 number of neighbours and using the chebyshev method: 0.17517301621398362\n",
      "MSE of KNN regressor with 0.1 Test_size, with 3 number of neighbours and using the manhattan method: 227.42173219772096\n",
      "R2 of KNN regressor with 0.1 Test_size, with 3 number of neighbours and using the manhattan method: -0.007674864570117679\n",
      "MSE of KNN regressor with 0.2 Test_size, with 3 number of neighbours and using the manhattan method: 221.46535192640565\n",
      "R2 of KNN regressor with 0.2 Test_size, with 3 number of neighbours and using the manhattan method: 0.01590172737867246\n",
      "MSE of KNN regressor with 0.3 Test_size, with 3 number of neighbours and using the manhattan method: 216.13131313131314\n",
      "R2 of KNN regressor with 0.3 Test_size, with 3 number of neighbours and using the manhattan method: 0.04205479255680078\n",
      "MSE of KNN regressor with 0.4 Test_size, with 3 number of neighbours and using the manhattan method: 213.37178701677607\n",
      "R2 of KNN regressor with 0.4 Test_size, with 3 number of neighbours and using the manhattan method: 0.053865946972781464\n",
      "MSE of KNN regressor with 0.1 Test_size, with 5 number of neighbours and using the manhattan method: 201.07444172208614\n",
      "R2 of KNN regressor with 0.1 Test_size, with 5 number of neighbours and using the manhattan method: 0.1090664077140221\n",
      "MSE of KNN regressor with 0.2 Test_size, with 5 number of neighbours and using the manhattan method: 197.4260878697707\n",
      "R2 of KNN regressor with 0.2 Test_size, with 5 number of neighbours and using the manhattan method: 0.12272204047705637\n",
      "MSE of KNN regressor with 0.3 Test_size, with 5 number of neighbours and using the manhattan method: 195.90046913292102\n",
      "R2 of KNN regressor with 0.3 Test_size, with 5 number of neighbours and using the manhattan method: 0.1317226882911694\n",
      "MSE of KNN regressor with 0.4 Test_size, with 5 number of neighbours and using the manhattan method: 190.98447964989057\n",
      "R2 of KNN regressor with 0.4 Test_size, with 5 number of neighbours and using the manhattan method: 0.15313583710934442\n",
      "MSE of KNN regressor with 0.1 Test_size, with 7 number of neighbours and using the manhattan method: 192.4395219760988\n",
      "R2 of KNN regressor with 0.1 Test_size, with 7 number of neighbours and using the manhattan method: 0.14732656650151543\n",
      "MSE of KNN regressor with 0.2 Test_size, with 7 number of neighbours and using the manhattan method: 185.8707244844376\n",
      "R2 of KNN regressor with 0.2 Test_size, with 7 number of neighbours and using the manhattan method: 0.1740691837123418\n",
      "MSE of KNN regressor with 0.3 Test_size, with 7 number of neighbours and using the manhattan method: 184.97761032292485\n",
      "R2 of KNN regressor with 0.3 Test_size, with 7 number of neighbours and using the manhattan method: 0.18013538748324487\n",
      "MSE of KNN regressor with 0.4 Test_size, with 7 number of neighbours and using the manhattan method: 182.60905282900904\n",
      "R2 of KNN regressor with 0.4 Test_size, with 7 number of neighbours and using the manhattan method: 0.19027418906611215\n",
      "0.19027418906611215 0.4 euclidean 7\n"
     ]
    }
   ],
   "source": [
    "acc=0\n",
    "right_size=0.0\n",
    "metric=\"aaa\"\n",
    "neighbors=17\n",
    "for i in range(len(metrics)):\n",
    "    for j in range(len(n)):\n",
    "        for k in range(len(size)):\n",
    "            X_train, X_test, y_train, y_test = train_test_split(X,y, test_size=size[k], stratify=y, random_state=42)\n",
    "\n",
    "            knn_model = KNeighborsRegressor(n_neighbors=n[j], metric=metrics[i]) \n",
    "            knn_model.fit(X_train, y_train)\n",
    "\n",
    "            # Predicciones para el test\n",
    "            y_pred = knn_model.predict(X_test)        \n",
    "\n",
    "            # funciona bien el modelo?\n",
    "            mse = mean_squared_error(y_test, y_pred)\n",
    "            r2 = r2_score(y_test, y_pred)\n",
    "            print(f\"MSE of KNN regressor with {size[k]} Test_size, with {n[j]} number of neighbours and using the {metrics[i]} method:\", mse)\n",
    "            print(f\"R2 of KNN regressor with {size[k]} Test_size, with {n[j]} number of neighbours and using the {metrics[i]} method:\", r2)\n",
    "\n",
    "            if r2>acc:\n",
    "                acc=r2\n",
    "                right_size=size[k]\n",
    "                metric=metrics[i]\n",
    "                neighbors=n[j]\n",
    "\n",
    "\n",
    "print(acc, right_size, metric, neighbors)"
   ]
  },
  {
   "cell_type": "markdown",
   "metadata": {},
   "source": [
    "## - SVR"
   ]
  },
  {
   "cell_type": "code",
   "execution_count": 134,
   "metadata": {},
   "outputs": [
    {
     "name": "stdout",
     "output_type": "stream",
     "text": [
      "MSE (Error Cuadrático Medio): 160.7933\n",
      "R2 (Coeficiente de Determinación): 0.2870\n"
     ]
    }
   ],
   "source": [
    "# Generar datos sintéticos\n",
    "\n",
    "# Crear y entrenar un modelo SVR con kernel 'rbf' (para no linealidad). Puede ser 'linear', o 'poly'. \n",
    "# Para no lineal también se usa \"sigmoid\" para relaciones logísticas\n",
    "svr = SVR(kernel='linear', C=10, epsilon=0.1) \n",
    "# C: Bajo vs alto: General (suave) o Ajuste preciso (ojo overfitting). \n",
    "# Poly: degree= Controla el grado de polinomio (2, 3, 4, 5)\n",
    "# Gamma (todos menos linear): Controla la influencia de cada punto. gamma baja= puntos lejanos tienen más influencia (0.01). \n",
    "#Gamma alta(1, 10): Puntos cercanos tienen más influencia. Ojo con el sobreajuste. 'scale', 'auto', o 0.01, 0.1, 1\n",
    "# Epsilon: Ignorar errores. Si es alto, ignora más\n",
    "\n",
    "svr.fit(X_train, y_train)\n",
    "# Predicciones\n",
    "y_pred = svr.predict(X_test)\n",
    "# Evaluar el rendimiento\n",
    "mse = mean_squared_error(y_test, y_pred)\n",
    "r2 = r2_score(y_test, y_pred)\n",
    "\n",
    "print(f'MSE (Error Cuadrático Medio): {mse:.4f}')\n",
    "print(f'R2 (Coeficiente de Determinación): {r2:.4f}')"
   ]
  },
  {
   "cell_type": "markdown",
   "metadata": {},
   "source": [
    "# OPCIÓN 2. TRATANDO CON LA MULTICOLINEALIDAD"
   ]
  },
  {
   "cell_type": "markdown",
   "metadata": {},
   "source": [
    "## ME QUEDO CON EL WRITING SCORE    "
   ]
  },
  {
   "cell_type": "code",
   "execution_count": 135,
   "metadata": {},
   "outputs": [],
   "source": [
    "df2 = pd.read_csv(\"StudentsMathWritingScoresAnalisis.csv\")"
   ]
  },
  {
   "cell_type": "code",
   "execution_count": 136,
   "metadata": {},
   "outputs": [
    {
     "name": "stdout",
     "output_type": "stream",
     "text": [
      "<class 'pandas.core.frame.DataFrame'>\n",
      "RangeIndex: 28561 entries, 0 to 28560\n",
      "Data columns (total 14 columns):\n",
      " #   Column               Non-Null Count  Dtype\n",
      "---  ------               --------------  -----\n",
      " 0   NrSiblings           28561 non-null  int64\n",
      " 1   MathScore            28561 non-null  int64\n",
      " 2   WritingScore         28561 non-null  int64\n",
      " 3   ParentEduc           28561 non-null  int64\n",
      " 4   PracticeSport        28561 non-null  int64\n",
      " 5   WklyStudyHours       28561 non-null  int64\n",
      " 6   Gender_male          28561 non-null  int64\n",
      " 7   EthnicGroup_group B  28561 non-null  int64\n",
      " 8   EthnicGroup_group C  28561 non-null  int64\n",
      " 9   EthnicGroup_group D  28561 non-null  int64\n",
      " 10  EthnicGroup_group E  28561 non-null  int64\n",
      " 11  LunchType_standard   28561 non-null  int64\n",
      " 12  TestPrep_none        28561 non-null  int64\n",
      " 13  IsFirstChild_yes     28561 non-null  int64\n",
      "dtypes: int64(14)\n",
      "memory usage: 3.1 MB\n"
     ]
    }
   ],
   "source": [
    "df2.info()"
   ]
  },
  {
   "cell_type": "markdown",
   "metadata": {},
   "source": [
    "OLS "
   ]
  },
  {
   "cell_type": "code",
   "execution_count": 137,
   "metadata": {},
   "outputs": [
    {
     "name": "stdout",
     "output_type": "stream",
     "text": [
      "                            OLS Regression Results                            \n",
      "==============================================================================\n",
      "Dep. Variable:              MathScore   R-squared:                       0.863\n",
      "Model:                            OLS   Adj. R-squared:                  0.863\n",
      "Method:                 Least Squares   F-statistic:                 1.385e+04\n",
      "Date:                Sat, 04 Jan 2025   Prob (F-statistic):               0.00\n",
      "Time:                        14:44:36   Log-Likelihood:                -89509.\n",
      "No. Observations:               28561   AIC:                         1.790e+05\n",
      "Df Residuals:                   28547   BIC:                         1.792e+05\n",
      "Df Model:                          13                                         \n",
      "Covariance Type:            nonrobust                                         \n",
      "=======================================================================================\n",
      "                          coef    std err          t      P>|t|      [0.025      0.975]\n",
      "---------------------------------------------------------------------------------------\n",
      "const                  -9.3386      0.246    -37.994      0.000      -9.820      -8.857\n",
      "NrSiblings             -0.0090      0.023     -0.397      0.691      -0.054       0.035\n",
      "WritingScore            0.9191      0.003    347.644      0.000       0.914       0.924\n",
      "ParentEduc             -0.3954      0.027    -14.755      0.000      -0.448      -0.343\n",
      "PracticeSport           0.3323      0.050      6.633      0.000       0.234       0.431\n",
      "WklyStudyHours          0.8014      0.050     16.140      0.000       0.704       0.899\n",
      "Gender_male            13.1436      0.070    188.397      0.000      13.007      13.280\n",
      "EthnicGroup_group B     0.1051      0.144      0.732      0.464      -0.176       0.386\n",
      "EthnicGroup_group C     0.2317      0.134      1.732      0.083      -0.031       0.494\n",
      "EthnicGroup_group D    -0.5206      0.140     -3.729      0.000      -0.794      -0.247\n",
      "EthnicGroup_group E     5.5242      0.153     36.111      0.000       5.224       5.824\n",
      "LunchType_standard      3.6989      0.073     50.853      0.000       3.556       3.841\n",
      "TestPrep_none           4.0152      0.074     54.100      0.000       3.870       4.161\n",
      "IsFirstChild_yes        0.1050      0.069      1.520      0.128      -0.030       0.240\n",
      "==============================================================================\n",
      "Omnibus:                       14.176   Durbin-Watson:                   1.987\n",
      "Prob(Omnibus):                  0.001   Jarque-Bera (JB):               13.690\n",
      "Skew:                          -0.037   Prob(JB):                      0.00106\n",
      "Kurtosis:                       2.922   Cond. No.                         643.\n",
      "==============================================================================\n",
      "\n",
      "Notes:\n",
      "[1] Standard Errors assume that the covariance matrix of the errors is correctly specified.\n"
     ]
    }
   ],
   "source": [
    "y = df2[\"MathScore\"]\n",
    "X = df2.drop([\"MathScore\"], axis = 1)\n",
    "X = sm.add_constant(X) # añadir la constante (muy importante), no es lo mismo que corte en y=0 que en y=4\n",
    "model = sm.OLS(y, X).fit()\n",
    "# visualizar el modelo\n",
    "print(model.summary())\n",
    "# los coeficientes son las Betas, cómo el cambio de x afecta a la y\n",
    "# p value > 0.05 no rechazamos la Hipotesis nula / menor de 0.05 sí rechazamos la hipotesis nula\n"
   ]
  },
  {
   "cell_type": "markdown",
   "metadata": {},
   "source": [
    "PRUEBO A QUITAR NR OF SIBLINGS Y GRUPO B PORQUE ME DAN UN P VALUE MUY ALTO\n",
    "ESTAS VARIABLES NO EXPLICAN EL MODELO"
   ]
  },
  {
   "cell_type": "code",
   "execution_count": 138,
   "metadata": {},
   "outputs": [],
   "source": [
    "df2.drop(columns= [\"NrSiblings\", \"EthnicGroup_group B\", \"IsFirstChild_yes\"], inplace=True, axis=1)"
   ]
  },
  {
   "cell_type": "code",
   "execution_count": 139,
   "metadata": {},
   "outputs": [
    {
     "name": "stdout",
     "output_type": "stream",
     "text": [
      "                            OLS Regression Results                            \n",
      "==============================================================================\n",
      "Dep. Variable:              MathScore   R-squared:                       0.863\n",
      "Model:                            OLS   Adj. R-squared:                  0.863\n",
      "Method:                 Least Squares   F-statistic:                 1.800e+04\n",
      "Date:                Sat, 04 Jan 2025   Prob (F-statistic):               0.00\n",
      "Time:                        14:44:51   Log-Likelihood:                -89511.\n",
      "No. Observations:               28561   AIC:                         1.790e+05\n",
      "Df Residuals:                   28550   BIC:                         1.791e+05\n",
      "Df Model:                          10                                         \n",
      "Covariance Type:            nonrobust                                         \n",
      "=======================================================================================\n",
      "                          coef    std err          t      P>|t|      [0.025      0.975]\n",
      "---------------------------------------------------------------------------------------\n",
      "const                  -9.2198      0.213    -43.370      0.000      -9.637      -8.803\n",
      "WritingScore            0.9191      0.003    347.723      0.000       0.914       0.924\n",
      "ParentEduc             -0.3954      0.027    -14.756      0.000      -0.448      -0.343\n",
      "PracticeSport           0.3334      0.050      6.657      0.000       0.235       0.432\n",
      "WklyStudyHours          0.8008      0.050     16.128      0.000       0.703       0.898\n",
      "Gender_male            13.1446      0.070    188.418      0.000      13.008      13.281\n",
      "EthnicGroup_group C     0.1546      0.085      1.829      0.067      -0.011       0.320\n",
      "EthnicGroup_group D    -0.5970      0.093     -6.396      0.000      -0.780      -0.414\n",
      "EthnicGroup_group E     5.4468      0.112     48.494      0.000       5.227       5.667\n",
      "LunchType_standard      3.6983      0.073     50.848      0.000       3.556       3.841\n",
      "TestPrep_none           4.0150      0.074     54.106      0.000       3.870       4.160\n",
      "==============================================================================\n",
      "Omnibus:                       14.151   Durbin-Watson:                   1.987\n",
      "Prob(Omnibus):                  0.001   Jarque-Bera (JB):               13.664\n",
      "Skew:                          -0.037   Prob(JB):                      0.00108\n",
      "Kurtosis:                       2.922   Cond. No.                         469.\n",
      "==============================================================================\n",
      "\n",
      "Notes:\n",
      "[1] Standard Errors assume that the covariance matrix of the errors is correctly specified.\n"
     ]
    }
   ],
   "source": [
    "y = df2[\"MathScore\"]\n",
    "X = df2.drop([\"MathScore\"], axis = 1)\n",
    "X = sm.add_constant(X) # añadir la constante (muy importante), no es lo mismo que corte en y=0 que en y=4\n",
    "model = sm.OLS(y, X).fit()\n",
    "# visualizar el modelo\n",
    "print(model.summary())\n",
    "# los coeficientes son las Betas, cómo el cambio de x afecta a la y\n",
    "# p value > 0.05 no rechazamos la Hipotesis nula / menor de 0.05 sí rechazamos la hipotesis nula\n"
   ]
  },
  {
   "cell_type": "markdown",
   "metadata": {},
   "source": [
    "comparitiva de grupos y de sexo"
   ]
  },
  {
   "cell_type": "markdown",
   "metadata": {},
   "source": [
    "APLICO RIDGE Y LASSO"
   ]
  },
  {
   "cell_type": "code",
   "execution_count": 148,
   "metadata": {},
   "outputs": [
    {
     "name": "stdout",
     "output_type": "stream",
     "text": [
      "📘 Ridge:\n",
      "Mean Squared Error: 160.79325553429356\n",
      "R2 (Coeficiente de Determinación): 0.8658\n",
      "\n",
      "📘 Lasso:\n",
      "MSE (Error Cuadrático Medio): 46.0527\n",
      "R2 (Coeficiente de Determinación): 0.7973\n",
      "\n"
     ]
    }
   ],
   "source": [
    "# Definir variables independientes (X) y dependientes (y)\n",
    "y = df2[\"MathScore\"]\n",
    "X = df2.drop([\"MathScore\"], axis = 1)\n",
    "\n",
    "# Dividir en conjunto de entrenamiento y prueba\n",
    "X_train, X_test, y_train, y_test = train_test_split(X, y, test_size=0.2, random_state=42)\n",
    "\n",
    "# Escalar los datos (importante para KNN, Lasso, Ridge)\n",
    "scaler = StandardScaler()\n",
    "X_train_scaled = scaler.fit_transform(X_train)\n",
    "X_test_scaled = scaler.transform(X_test)\n",
    "\n",
    "# Entrenando el modelo Ridge\n",
    "ridge = Ridge(alpha=1)\n",
    "ridge.fit(X_train, y_train)\n",
    "# Predicciones\n",
    "y_pred_ridge = ridge.predict(X_test)\n",
    "# Evaluación del modelo\n",
    "mse_ridge = mean_squared_error(y_test, y_pred_ridge)\n",
    "r2_ridge = r2_score(y_test, y_pred_ridge)\n",
    "print(\"📘 Ridge:\")\n",
    "print(f\"Mean Squared Error: {mse}\")\n",
    "print(f\"R2 (Coeficiente de Determinación): {r2_ridge:.4f}\\n\")\n",
    "\n",
    "# **3️⃣ Lasso (con penalización L1)**\n",
    "lasso = Lasso(alpha=1)  # alpha controla la fuerza de la penalización. Cuanto más alpha, más se polariza la insignificancia de variables. \n",
    "# alpha=0 es lo mismo que hacer lineal. Más comunes: 0.0001, 0.001, 0.01, 0.1, 1\n",
    "lasso.fit(X_train, y_train)\n",
    "y_pred_lasso = lasso.predict(X_test)\n",
    "mse_lasso = mean_squared_error(y_test, y_pred_lasso)\n",
    "r2_lasso = r2_score(y_test, y_pred_lasso)\n",
    "print(\"📘 Lasso:\")\n",
    "print(f\"MSE (Error Cuadrático Medio): {mse_lasso:.4f}\")\n",
    "print(f\"R2 (Coeficiente de Determinación): {r2_lasso:.4f}\\n\")"
   ]
  },
  {
   "cell_type": "markdown",
   "metadata": {},
   "source": [
    "## ME QUEDO CON LA MEDIA DE READINGSCORE Y WRITINGSCORE"
   ]
  },
  {
   "cell_type": "code",
   "execution_count": 149,
   "metadata": {},
   "outputs": [],
   "source": [
    "df3 = pd.read_csv(\"StudentsMathandAVGScoresAnalisis.csv\")"
   ]
  },
  {
   "cell_type": "code",
   "execution_count": 150,
   "metadata": {},
   "outputs": [
    {
     "name": "stdout",
     "output_type": "stream",
     "text": [
      "<class 'pandas.core.frame.DataFrame'>\n",
      "RangeIndex: 28561 entries, 0 to 28560\n",
      "Data columns (total 14 columns):\n",
      " #   Column               Non-Null Count  Dtype  \n",
      "---  ------               --------------  -----  \n",
      " 0   NrSiblings           28561 non-null  int64  \n",
      " 1   MathScore            28561 non-null  int64  \n",
      " 2   AvgWritingReading    28561 non-null  float64\n",
      " 3   ParentEduc           28561 non-null  int64  \n",
      " 4   PracticeSport        28561 non-null  int64  \n",
      " 5   WklyStudyHours       28561 non-null  int64  \n",
      " 6   Gender_male          28561 non-null  int64  \n",
      " 7   EthnicGroup_group B  28561 non-null  int64  \n",
      " 8   EthnicGroup_group C  28561 non-null  int64  \n",
      " 9   EthnicGroup_group D  28561 non-null  int64  \n",
      " 10  EthnicGroup_group E  28561 non-null  int64  \n",
      " 11  LunchType_standard   28561 non-null  int64  \n",
      " 12  TestPrep_none        28561 non-null  int64  \n",
      " 13  IsFirstChild_yes     28561 non-null  int64  \n",
      "dtypes: float64(1), int64(13)\n",
      "memory usage: 3.1 MB\n"
     ]
    }
   ],
   "source": [
    "df3.info()"
   ]
  },
  {
   "cell_type": "markdown",
   "metadata": {},
   "source": [
    "OLS"
   ]
  },
  {
   "cell_type": "code",
   "execution_count": 151,
   "metadata": {},
   "outputs": [
    {
     "name": "stdout",
     "output_type": "stream",
     "text": [
      "                            OLS Regression Results                            \n",
      "==============================================================================\n",
      "Dep. Variable:              MathScore   R-squared:                       0.866\n",
      "Model:                            OLS   Adj. R-squared:                  0.866\n",
      "Method:                 Least Squares   F-statistic:                 1.415e+04\n",
      "Date:                Sat, 04 Jan 2025   Prob (F-statistic):               0.00\n",
      "Time:                        14:57:25   Log-Likelihood:                -89245.\n",
      "No. Observations:               28561   AIC:                         1.785e+05\n",
      "Df Residuals:                   28547   BIC:                         1.786e+05\n",
      "Df Model:                          13                                         \n",
      "Covariance Type:            nonrobust                                         \n",
      "=======================================================================================\n",
      "                          coef    std err          t      P>|t|      [0.025      0.975]\n",
      "---------------------------------------------------------------------------------------\n",
      "const                 -10.0848      0.245    -41.205      0.000     -10.565      -9.605\n",
      "NrSiblings             -0.0058      0.023     -0.256      0.798      -0.050       0.038\n",
      "AvgWritingReading       0.9233      0.003    351.626      0.000       0.918       0.928\n",
      "ParentEduc             -0.1445      0.026     -5.479      0.000      -0.196      -0.093\n",
      "PracticeSport           0.6897      0.050     13.914      0.000       0.593       0.787\n",
      "WklyStudyHours          0.9075      0.049     18.455      0.000       0.811       1.004\n",
      "Gender_male            12.2962      0.068    179.914      0.000      12.162      12.430\n",
      "EthnicGroup_group B     0.1117      0.142      0.785      0.432      -0.167       0.390\n",
      "EthnicGroup_group C     0.2617      0.133      1.974      0.048       0.002       0.522\n",
      "EthnicGroup_group D     0.3779      0.138      2.737      0.006       0.107       0.649\n",
      "EthnicGroup_group E     5.4416      0.152     35.895      0.000       5.144       5.739\n",
      "LunchType_standard      4.0882      0.072     57.006      0.000       3.948       4.229\n",
      "TestPrep_none           2.7228      0.072     37.599      0.000       2.581       2.865\n",
      "IsFirstChild_yes        0.0680      0.068      0.994      0.320      -0.066       0.202\n",
      "==============================================================================\n",
      "Omnibus:                       13.049   Durbin-Watson:                   1.987\n",
      "Prob(Omnibus):                  0.001   Jarque-Bera (JB):               12.727\n",
      "Skew:                          -0.038   Prob(JB):                      0.00172\n",
      "Kurtosis:                       2.930   Cond. No.                         647.\n",
      "==============================================================================\n",
      "\n",
      "Notes:\n",
      "[1] Standard Errors assume that the covariance matrix of the errors is correctly specified.\n"
     ]
    }
   ],
   "source": [
    "y = df3[\"MathScore\"]\n",
    "X = df3.drop([\"MathScore\"], axis = 1)\n",
    "X = sm.add_constant(X) # añadir la constante (muy importante), no es lo mismo que corte en y=0 que en y=4\n",
    "model = sm.OLS(y, X).fit()\n",
    "# visualizar el modelo\n",
    "print(model.summary())\n",
    "# los coeficientes son las Betas, cómo el cambio de x afecta a la y\n",
    "# p value > 0.05 no rechazamos la Hipotesis nula / menor de 0.05 sí rechazamos la hipotesis nula"
   ]
  },
  {
   "cell_type": "code",
   "execution_count": 152,
   "metadata": {},
   "outputs": [],
   "source": [
    "df3.drop(columns= [\"NrSiblings\", \"EthnicGroup_group B\"], inplace=True, axis=1)"
   ]
  },
  {
   "cell_type": "code",
   "execution_count": 153,
   "metadata": {},
   "outputs": [
    {
     "name": "stdout",
     "output_type": "stream",
     "text": [
      "                            OLS Regression Results                            \n",
      "==============================================================================\n",
      "Dep. Variable:              MathScore   R-squared:                       0.866\n",
      "Model:                            OLS   Adj. R-squared:                  0.866\n",
      "Method:                 Least Squares   F-statistic:                 1.672e+04\n",
      "Date:                Sat, 04 Jan 2025   Prob (F-statistic):               0.00\n",
      "Time:                        14:57:32   Log-Likelihood:                -89246.\n",
      "No. Observations:               28561   AIC:                         1.785e+05\n",
      "Df Residuals:                   28549   BIC:                         1.786e+05\n",
      "Df Model:                          11                                         \n",
      "Covariance Type:            nonrobust                                         \n",
      "=======================================================================================\n",
      "                          coef    std err          t      P>|t|      [0.025      0.975]\n",
      "---------------------------------------------------------------------------------------\n",
      "const                 -10.0182      0.216    -46.418      0.000     -10.441      -9.595\n",
      "AvgWritingReading       0.9233      0.003    351.662      0.000       0.918       0.928\n",
      "ParentEduc             -0.1444      0.026     -5.477      0.000      -0.196      -0.093\n",
      "PracticeSport           0.6896      0.050     13.913      0.000       0.592       0.787\n",
      "WklyStudyHours          0.9072      0.049     18.449      0.000       0.811       1.004\n",
      "Gender_male            12.2962      0.068    179.921      0.000      12.162      12.430\n",
      "EthnicGroup_group C     0.1810      0.084      2.161      0.031       0.017       0.345\n",
      "EthnicGroup_group D     0.2972      0.092      3.226      0.001       0.117       0.478\n",
      "EthnicGroup_group E     5.3606      0.111     48.155      0.000       5.142       5.579\n",
      "LunchType_standard      4.0876      0.072     57.002      0.000       3.947       4.228\n",
      "TestPrep_none           2.7220      0.072     37.594      0.000       2.580       2.864\n",
      "IsFirstChild_yes        0.0704      0.068      1.036      0.300      -0.063       0.204\n",
      "==============================================================================\n",
      "Omnibus:                       13.055   Durbin-Watson:                   1.987\n",
      "Prob(Omnibus):                  0.001   Jarque-Bera (JB):               12.730\n",
      "Skew:                          -0.038   Prob(JB):                      0.00172\n",
      "Kurtosis:                       2.930   Cond. No.                         481.\n",
      "==============================================================================\n",
      "\n",
      "Notes:\n",
      "[1] Standard Errors assume that the covariance matrix of the errors is correctly specified.\n"
     ]
    }
   ],
   "source": [
    "y = df3[\"MathScore\"]\n",
    "X = df3.drop([\"MathScore\"], axis = 1)\n",
    "X = sm.add_constant(X) # añadir la constante (muy importante), no es lo mismo que corte en y=0 que en y=4\n",
    "model = sm.OLS(y, X).fit()\n",
    "# visualizar el modelo\n",
    "print(model.summary())\n",
    "# los coeficientes son las Betas, cómo el cambio de x afecta a la y\n",
    "# p value > 0.05 no rechazamos la Hipotesis nula / menor de 0.05 sí rechazamos la hipotesis nula\n"
   ]
  },
  {
   "cell_type": "markdown",
   "metadata": {},
   "source": [
    "APLICO RIDGE Y LASSO"
   ]
  },
  {
   "cell_type": "code",
   "execution_count": 156,
   "metadata": {},
   "outputs": [
    {
     "name": "stdout",
     "output_type": "stream",
     "text": [
      "📘 Ridge:\n",
      "Mean Squared Error: 160.79325553429356\n",
      "R2 (Coeficiente de Determinación): 0.8685\n",
      "\n",
      "📘 Lasso:\n",
      "MSE (Error Cuadrático Medio): 30.1569\n",
      "R2 (Coeficiente de Determinación): 0.8672\n",
      "\n"
     ]
    }
   ],
   "source": [
    "# Definir variables independientes (X) y dependientes (y)\n",
    "y = df3[\"MathScore\"]\n",
    "X = df3.drop([\"MathScore\"], axis = 1)\n",
    "\n",
    "# Dividir en conjunto de entrenamiento y prueba\n",
    "X_train, X_test, y_train, y_test = train_test_split(X, y, test_size=0.2, random_state=42)\n",
    "\n",
    "# Escalar los datos (importante para KNN, Lasso, Ridge)\n",
    "scaler = StandardScaler()\n",
    "X_train_scaled = scaler.fit_transform(X_train)\n",
    "X_test_scaled = scaler.transform(X_test)\n",
    "\n",
    "# Entrenando el modelo Ridge\n",
    "ridge = Ridge(alpha=1)\n",
    "ridge.fit(X_train, y_train)\n",
    "# Predicciones\n",
    "y_pred_ridge = ridge.predict(X_test)\n",
    "# Evaluación del modelo\n",
    "mse_ridge = mean_squared_error(y_test, y_pred_ridge)\n",
    "r2_ridge = r2_score(y_test, y_pred_ridge)\n",
    "print(\"📘 Ridge:\")\n",
    "print(f\"Mean Squared Error: {mse}\")\n",
    "print(f\"R2 (Coeficiente de Determinación): {r2_ridge:.4f}\\n\")\n",
    "\n",
    "# **3️⃣ Lasso (con penalización L1)**\n",
    "lasso = Lasso(alpha=0.1)  # alpha controla la fuerza de la penalización. Cuanto más alpha, más se polariza la insignificancia de variables. \n",
    "# alpha=0 es lo mismo que hacer lineal. Más comunes: 0.0001, 0.001, 0.01, 0.1, 1\n",
    "lasso.fit(X_train, y_train)\n",
    "y_pred_lasso = lasso.predict(X_test)\n",
    "mse_lasso = mean_squared_error(y_test, y_pred_lasso)\n",
    "r2_lasso = r2_score(y_test, y_pred_lasso)\n",
    "print(\"📘 Lasso:\")\n",
    "print(f\"MSE (Error Cuadrático Medio): {mse_lasso:.4f}\")\n",
    "print(f\"R2 (Coeficiente de Determinación): {r2_lasso:.4f}\\n\")"
   ]
  },
  {
   "cell_type": "code",
   "execution_count": null,
   "metadata": {},
   "outputs": [],
   "source": []
  }
 ],
 "metadata": {
  "kernelspec": {
   "display_name": "original",
   "language": "python",
   "name": "python3"
  },
  "language_info": {
   "codemirror_mode": {
    "name": "ipython",
    "version": 3
   },
   "file_extension": ".py",
   "mimetype": "text/x-python",
   "name": "python",
   "nbconvert_exporter": "python",
   "pygments_lexer": "ipython3",
   "version": "3.12.5"
  }
 },
 "nbformat": 4,
 "nbformat_minor": 2
}
